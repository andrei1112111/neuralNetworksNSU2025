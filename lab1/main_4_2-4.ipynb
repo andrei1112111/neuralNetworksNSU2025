{
  "cells": [
    {
      "metadata": {
        "id": "76a83602213c4cee"
      },
      "cell_type": "code",
      "outputs": [],
      "execution_count": 1,
      "source": [
        "#pip install -U scikit-learn"
      ],
      "id": "76a83602213c4cee"
    },
    {
      "metadata": {
        "id": "cb394172bb145d6",
        "ExecuteTime": {
          "end_time": "2025-03-13T15:34:38.358728Z",
          "start_time": "2025-03-13T15:34:36.593307Z"
        }
      },
      "cell_type": "code",
      "source": [
        "import torch\n",
        "import torch.nn as nn\n",
        "\n",
        "from sklearn.model_selection import train_test_split\n",
        "from sklearn.metrics import confusion_matrix, classification_report, accuracy_score\n",
        "\n",
        "import seaborn as sns\n",
        "\n",
        "from tqdm import tqdm\n",
        "\n",
        "import shutil"
      ],
      "id": "cb394172bb145d6",
      "outputs": [],
      "execution_count": 2
    },
    {
      "metadata": {
        "collapsed": true,
        "id": "initial_id",
        "colab": {
          "base_uri": "https://localhost:8080/"
        },
        "outputId": "ff3fd270-9e95-46f8-e200-53567262c149",
        "ExecuteTime": {
          "end_time": "2025-03-13T15:35:12.519665Z",
          "start_time": "2025-03-13T15:35:11.566133Z"
        }
      },
      "cell_type": "code",
      "source": [
        "import kagglehub\n",
        "\n",
        "# Download latest version\n",
        "DATASET_PATH = kagglehub.dataset_download(\"alexattia/the-simpsons-characters-dataset\")"
      ],
      "id": "initial_id",
      "outputs": [
        {
          "output_type": "stream",
          "name": "stdout",
          "text": [
            "Downloading from https://www.kaggle.com/api/v1/datasets/download/alexattia/the-simpsons-characters-dataset?dataset_version_number=4...\n"
          ]
        },
        {
          "output_type": "stream",
          "name": "stderr",
          "text": [
            "100%|██████████| 1.08G/1.08G [00:14<00:00, 80.9MB/s]"
          ]
        },
        {
          "output_type": "stream",
          "name": "stdout",
          "text": [
            "Extracting files...\n"
          ]
        },
        {
          "output_type": "stream",
          "name": "stderr",
          "text": [
            "\n"
          ]
        }
      ],
      "execution_count": 3
    },
    {
      "metadata": {
        "id": "cdc5feada0b16608",
        "ExecuteTime": {
          "end_time": "2025-03-13T15:35:13.150196Z",
          "start_time": "2025-03-13T15:35:13.145246Z"
        }
      },
      "cell_type": "code",
      "source": [
        "IMAGE_SIZE = (224, 224)\n",
        "BATCH_SIZE = 128\n",
        "NUM_CLASS = 13\n",
        "\n",
        "EPOCHS = 30\n",
        "\n",
        "device = torch.device('cuda')\n",
        "\n",
        "TRAIN_SIZE = 0.7\n",
        "VAL_SIZE = 0.15\n",
        "TEST_SIZE = 0.15"
      ],
      "id": "cdc5feada0b16608",
      "outputs": [],
      "execution_count": 4
    },
    {
      "metadata": {
        "id": "515905e86987bb9f",
        "jupyter": {
          "is_executing": true
        },
        "ExecuteTime": {
          "end_time": "2025-03-13T15:35:19.606858Z",
          "start_time": "2025-03-13T15:35:15.710768Z"
        }
      },
      "cell_type": "code",
      "source": [
        "import os\n",
        "import pandas\n",
        "\n",
        "input_dir = DATASET_PATH + \"/simpsons_dataset\"\n",
        "\n",
        "character_counts = {}\n",
        "\n",
        "data = []\n",
        "\n",
        "for character_folder in os.listdir(input_dir):\n",
        "    character_folder_path = os.path.join(input_dir, character_folder)\n",
        "\n",
        "    if os.path.isdir(character_folder_path):\n",
        "        num_files = len([f for f in os.listdir(character_folder_path) if os.path.isfile(os.path.join(character_folder_path, f))])\n",
        "        character_counts[character_folder] = num_files\n",
        "\n",
        "    for character_folder in os.listdir(input_dir):\n",
        "        character_folder_path = os.path.join(input_dir, character_folder)\n",
        "        if os.path.isdir(character_folder_path):\n",
        "            for filename in os.listdir(character_folder_path):\n",
        "                file_path = os.path.join(character_folder_path, filename)\n",
        "                if os.path.isfile(file_path):\n",
        "                    data.append([character_folder, file_path])\n",
        "\n",
        "df = pandas.DataFrame(data, columns=[\"character_folder\", \"filename\"])"
      ],
      "id": "515905e86987bb9f",
      "outputs": [],
      "execution_count": 5
    },
    {
      "metadata": {
        "id": "60c84f393066f22b",
        "colab": {
          "base_uri": "https://localhost:8080/"
        },
        "outputId": "b2386c17-7252-4d06-9d2d-88558504b8ed",
        "ExecuteTime": {
          "end_time": "2025-03-13T06:09:57.996065Z",
          "start_time": "2025-03-13T06:09:57.992078Z"
        }
      },
      "cell_type": "code",
      "source": [
        "allowed_classes = []\n",
        "\n",
        "sorted_counts = list(sorted(character_counts.items(), key=lambda x: -x[1]))\n",
        "for character, count in sorted_counts:\n",
        "    print(f\"{character}: {count} images\")\n",
        "    allowed_classes.append(character)\n",
        "\n",
        "allowed_classes = allowed_classes[:NUM_CLASS]"
      ],
      "id": "60c84f393066f22b",
      "outputs": [
        {
          "output_type": "stream",
          "name": "stdout",
          "text": [
            "homer_simpson: 2246 images\n",
            "ned_flanders: 1454 images\n",
            "moe_szyslak: 1452 images\n",
            "lisa_simpson: 1354 images\n",
            "bart_simpson: 1342 images\n",
            "marge_simpson: 1291 images\n",
            "krusty_the_clown: 1206 images\n",
            "principal_skinner: 1194 images\n",
            "charles_montgomery_burns: 1193 images\n",
            "milhouse_van_houten: 1079 images\n",
            "chief_wiggum: 986 images\n",
            "abraham_grampa_simpson: 913 images\n",
            "sideshow_bob: 877 images\n",
            "apu_nahasapeemapetilon: 623 images\n",
            "kent_brockman: 498 images\n",
            "comic_book_guy: 469 images\n",
            "edna_krabappel: 457 images\n",
            "nelson_muntz: 358 images\n",
            "lenny_leonard: 310 images\n",
            "mayor_quimby: 246 images\n",
            "waylon_smithers: 181 images\n",
            "maggie_simpson: 128 images\n",
            "groundskeeper_willie: 121 images\n",
            "barney_gumble: 106 images\n",
            "selma_bouvier: 103 images\n",
            "carl_carlson: 98 images\n",
            "ralph_wiggum: 89 images\n",
            "patty_bouvier: 72 images\n",
            "martin_prince: 71 images\n",
            "professor_john_frink: 65 images\n",
            "snake_jailbird: 55 images\n",
            "cletus_spuckler: 47 images\n",
            "rainier_wolfcastle: 45 images\n",
            "agnes_skinner: 42 images\n",
            "sideshow_mel: 40 images\n",
            "otto_mann: 32 images\n",
            "fat_tony: 27 images\n",
            "gil: 27 images\n",
            "miss_hoover: 17 images\n",
            "troy_mcclure: 8 images\n",
            "disco_stu: 8 images\n",
            "lionel_hutz: 3 images\n",
            "simpsons_dataset: 0 images\n"
          ]
        }
      ],
      "execution_count": 6
    },
    {
      "metadata": {
        "colab": {
          "base_uri": "https://localhost:8080/",
          "height": 204
        },
        "id": "dafb82d2ee0a6d47",
        "outputId": "68c72cbd-39d0-4f78-8538-64b2a34bcaf5",
        "ExecuteTime": {
          "end_time": "2025-03-13T06:09:14.654695Z",
          "start_time": "2025-03-13T06:09:14.648339Z"
        }
      },
      "cell_type": "code",
      "source": [
        "df[:5]"
      ],
      "id": "dafb82d2ee0a6d47",
      "outputs": [
        {
          "output_type": "execute_result",
          "data": {
            "text/plain": [
              "  character_folder                                           filename\n",
              "0     carl_carlson  /root/.cache/kagglehub/datasets/alexattia/the-...\n",
              "1     carl_carlson  /root/.cache/kagglehub/datasets/alexattia/the-...\n",
              "2     carl_carlson  /root/.cache/kagglehub/datasets/alexattia/the-...\n",
              "3     carl_carlson  /root/.cache/kagglehub/datasets/alexattia/the-...\n",
              "4     carl_carlson  /root/.cache/kagglehub/datasets/alexattia/the-..."
            ],
            "text/html": [
              "\n",
              "  <div id=\"df-30149a54-659b-4670-90cb-f15a7cad9be0\" class=\"colab-df-container\">\n",
              "    <div>\n",
              "<style scoped>\n",
              "    .dataframe tbody tr th:only-of-type {\n",
              "        vertical-align: middle;\n",
              "    }\n",
              "\n",
              "    .dataframe tbody tr th {\n",
              "        vertical-align: top;\n",
              "    }\n",
              "\n",
              "    .dataframe thead th {\n",
              "        text-align: right;\n",
              "    }\n",
              "</style>\n",
              "<table border=\"1\" class=\"dataframe\">\n",
              "  <thead>\n",
              "    <tr style=\"text-align: right;\">\n",
              "      <th></th>\n",
              "      <th>character_folder</th>\n",
              "      <th>filename</th>\n",
              "    </tr>\n",
              "  </thead>\n",
              "  <tbody>\n",
              "    <tr>\n",
              "      <th>0</th>\n",
              "      <td>carl_carlson</td>\n",
              "      <td>/root/.cache/kagglehub/datasets/alexattia/the-...</td>\n",
              "    </tr>\n",
              "    <tr>\n",
              "      <th>1</th>\n",
              "      <td>carl_carlson</td>\n",
              "      <td>/root/.cache/kagglehub/datasets/alexattia/the-...</td>\n",
              "    </tr>\n",
              "    <tr>\n",
              "      <th>2</th>\n",
              "      <td>carl_carlson</td>\n",
              "      <td>/root/.cache/kagglehub/datasets/alexattia/the-...</td>\n",
              "    </tr>\n",
              "    <tr>\n",
              "      <th>3</th>\n",
              "      <td>carl_carlson</td>\n",
              "      <td>/root/.cache/kagglehub/datasets/alexattia/the-...</td>\n",
              "    </tr>\n",
              "    <tr>\n",
              "      <th>4</th>\n",
              "      <td>carl_carlson</td>\n",
              "      <td>/root/.cache/kagglehub/datasets/alexattia/the-...</td>\n",
              "    </tr>\n",
              "  </tbody>\n",
              "</table>\n",
              "</div>\n",
              "    <div class=\"colab-df-buttons\">\n",
              "\n",
              "  <div class=\"colab-df-container\">\n",
              "    <button class=\"colab-df-convert\" onclick=\"convertToInteractive('df-30149a54-659b-4670-90cb-f15a7cad9be0')\"\n",
              "            title=\"Convert this dataframe to an interactive table.\"\n",
              "            style=\"display:none;\">\n",
              "\n",
              "  <svg xmlns=\"http://www.w3.org/2000/svg\" height=\"24px\" viewBox=\"0 -960 960 960\">\n",
              "    <path d=\"M120-120v-720h720v720H120Zm60-500h600v-160H180v160Zm220 220h160v-160H400v160Zm0 220h160v-160H400v160ZM180-400h160v-160H180v160Zm440 0h160v-160H620v160ZM180-180h160v-160H180v160Zm440 0h160v-160H620v160Z\"/>\n",
              "  </svg>\n",
              "    </button>\n",
              "\n",
              "  <style>\n",
              "    .colab-df-container {\n",
              "      display:flex;\n",
              "      gap: 12px;\n",
              "    }\n",
              "\n",
              "    .colab-df-convert {\n",
              "      background-color: #E8F0FE;\n",
              "      border: none;\n",
              "      border-radius: 50%;\n",
              "      cursor: pointer;\n",
              "      display: none;\n",
              "      fill: #1967D2;\n",
              "      height: 32px;\n",
              "      padding: 0 0 0 0;\n",
              "      width: 32px;\n",
              "    }\n",
              "\n",
              "    .colab-df-convert:hover {\n",
              "      background-color: #E2EBFA;\n",
              "      box-shadow: 0px 1px 2px rgba(60, 64, 67, 0.3), 0px 1px 3px 1px rgba(60, 64, 67, 0.15);\n",
              "      fill: #174EA6;\n",
              "    }\n",
              "\n",
              "    .colab-df-buttons div {\n",
              "      margin-bottom: 4px;\n",
              "    }\n",
              "\n",
              "    [theme=dark] .colab-df-convert {\n",
              "      background-color: #3B4455;\n",
              "      fill: #D2E3FC;\n",
              "    }\n",
              "\n",
              "    [theme=dark] .colab-df-convert:hover {\n",
              "      background-color: #434B5C;\n",
              "      box-shadow: 0px 1px 3px 1px rgba(0, 0, 0, 0.15);\n",
              "      filter: drop-shadow(0px 1px 2px rgba(0, 0, 0, 0.3));\n",
              "      fill: #FFFFFF;\n",
              "    }\n",
              "  </style>\n",
              "\n",
              "    <script>\n",
              "      const buttonEl =\n",
              "        document.querySelector('#df-30149a54-659b-4670-90cb-f15a7cad9be0 button.colab-df-convert');\n",
              "      buttonEl.style.display =\n",
              "        google.colab.kernel.accessAllowed ? 'block' : 'none';\n",
              "\n",
              "      async function convertToInteractive(key) {\n",
              "        const element = document.querySelector('#df-30149a54-659b-4670-90cb-f15a7cad9be0');\n",
              "        const dataTable =\n",
              "          await google.colab.kernel.invokeFunction('convertToInteractive',\n",
              "                                                    [key], {});\n",
              "        if (!dataTable) return;\n",
              "\n",
              "        const docLinkHtml = 'Like what you see? Visit the ' +\n",
              "          '<a target=\"_blank\" href=https://colab.research.google.com/notebooks/data_table.ipynb>data table notebook</a>'\n",
              "          + ' to learn more about interactive tables.';\n",
              "        element.innerHTML = '';\n",
              "        dataTable['output_type'] = 'display_data';\n",
              "        await google.colab.output.renderOutput(dataTable, element);\n",
              "        const docLink = document.createElement('div');\n",
              "        docLink.innerHTML = docLinkHtml;\n",
              "        element.appendChild(docLink);\n",
              "      }\n",
              "    </script>\n",
              "  </div>\n",
              "\n",
              "\n",
              "<div id=\"df-95294eb4-9d8b-4888-84df-e8ae4c3177f9\">\n",
              "  <button class=\"colab-df-quickchart\" onclick=\"quickchart('df-95294eb4-9d8b-4888-84df-e8ae4c3177f9')\"\n",
              "            title=\"Suggest charts\"\n",
              "            style=\"display:none;\">\n",
              "\n",
              "<svg xmlns=\"http://www.w3.org/2000/svg\" height=\"24px\"viewBox=\"0 0 24 24\"\n",
              "     width=\"24px\">\n",
              "    <g>\n",
              "        <path d=\"M19 3H5c-1.1 0-2 .9-2 2v14c0 1.1.9 2 2 2h14c1.1 0 2-.9 2-2V5c0-1.1-.9-2-2-2zM9 17H7v-7h2v7zm4 0h-2V7h2v10zm4 0h-2v-4h2v4z\"/>\n",
              "    </g>\n",
              "</svg>\n",
              "  </button>\n",
              "\n",
              "<style>\n",
              "  .colab-df-quickchart {\n",
              "      --bg-color: #E8F0FE;\n",
              "      --fill-color: #1967D2;\n",
              "      --hover-bg-color: #E2EBFA;\n",
              "      --hover-fill-color: #174EA6;\n",
              "      --disabled-fill-color: #AAA;\n",
              "      --disabled-bg-color: #DDD;\n",
              "  }\n",
              "\n",
              "  [theme=dark] .colab-df-quickchart {\n",
              "      --bg-color: #3B4455;\n",
              "      --fill-color: #D2E3FC;\n",
              "      --hover-bg-color: #434B5C;\n",
              "      --hover-fill-color: #FFFFFF;\n",
              "      --disabled-bg-color: #3B4455;\n",
              "      --disabled-fill-color: #666;\n",
              "  }\n",
              "\n",
              "  .colab-df-quickchart {\n",
              "    background-color: var(--bg-color);\n",
              "    border: none;\n",
              "    border-radius: 50%;\n",
              "    cursor: pointer;\n",
              "    display: none;\n",
              "    fill: var(--fill-color);\n",
              "    height: 32px;\n",
              "    padding: 0;\n",
              "    width: 32px;\n",
              "  }\n",
              "\n",
              "  .colab-df-quickchart:hover {\n",
              "    background-color: var(--hover-bg-color);\n",
              "    box-shadow: 0 1px 2px rgba(60, 64, 67, 0.3), 0 1px 3px 1px rgba(60, 64, 67, 0.15);\n",
              "    fill: var(--button-hover-fill-color);\n",
              "  }\n",
              "\n",
              "  .colab-df-quickchart-complete:disabled,\n",
              "  .colab-df-quickchart-complete:disabled:hover {\n",
              "    background-color: var(--disabled-bg-color);\n",
              "    fill: var(--disabled-fill-color);\n",
              "    box-shadow: none;\n",
              "  }\n",
              "\n",
              "  .colab-df-spinner {\n",
              "    border: 2px solid var(--fill-color);\n",
              "    border-color: transparent;\n",
              "    border-bottom-color: var(--fill-color);\n",
              "    animation:\n",
              "      spin 1s steps(1) infinite;\n",
              "  }\n",
              "\n",
              "  @keyframes spin {\n",
              "    0% {\n",
              "      border-color: transparent;\n",
              "      border-bottom-color: var(--fill-color);\n",
              "      border-left-color: var(--fill-color);\n",
              "    }\n",
              "    20% {\n",
              "      border-color: transparent;\n",
              "      border-left-color: var(--fill-color);\n",
              "      border-top-color: var(--fill-color);\n",
              "    }\n",
              "    30% {\n",
              "      border-color: transparent;\n",
              "      border-left-color: var(--fill-color);\n",
              "      border-top-color: var(--fill-color);\n",
              "      border-right-color: var(--fill-color);\n",
              "    }\n",
              "    40% {\n",
              "      border-color: transparent;\n",
              "      border-right-color: var(--fill-color);\n",
              "      border-top-color: var(--fill-color);\n",
              "    }\n",
              "    60% {\n",
              "      border-color: transparent;\n",
              "      border-right-color: var(--fill-color);\n",
              "    }\n",
              "    80% {\n",
              "      border-color: transparent;\n",
              "      border-right-color: var(--fill-color);\n",
              "      border-bottom-color: var(--fill-color);\n",
              "    }\n",
              "    90% {\n",
              "      border-color: transparent;\n",
              "      border-bottom-color: var(--fill-color);\n",
              "    }\n",
              "  }\n",
              "</style>\n",
              "\n",
              "  <script>\n",
              "    async function quickchart(key) {\n",
              "      const quickchartButtonEl =\n",
              "        document.querySelector('#' + key + ' button');\n",
              "      quickchartButtonEl.disabled = true;  // To prevent multiple clicks.\n",
              "      quickchartButtonEl.classList.add('colab-df-spinner');\n",
              "      try {\n",
              "        const charts = await google.colab.kernel.invokeFunction(\n",
              "            'suggestCharts', [key], {});\n",
              "      } catch (error) {\n",
              "        console.error('Error during call to suggestCharts:', error);\n",
              "      }\n",
              "      quickchartButtonEl.classList.remove('colab-df-spinner');\n",
              "      quickchartButtonEl.classList.add('colab-df-quickchart-complete');\n",
              "    }\n",
              "    (() => {\n",
              "      let quickchartButtonEl =\n",
              "        document.querySelector('#df-95294eb4-9d8b-4888-84df-e8ae4c3177f9 button');\n",
              "      quickchartButtonEl.style.display =\n",
              "        google.colab.kernel.accessAllowed ? 'block' : 'none';\n",
              "    })();\n",
              "  </script>\n",
              "</div>\n",
              "    </div>\n",
              "  </div>\n"
            ],
            "application/vnd.google.colaboratory.intrinsic+json": {
              "type": "dataframe",
              "summary": "{\n  \"name\": \"df[:5]\",\n  \"rows\": 5,\n  \"fields\": [\n    {\n      \"column\": \"character_folder\",\n      \"properties\": {\n        \"dtype\": \"category\",\n        \"num_unique_values\": 1,\n        \"samples\": [\n          \"carl_carlson\"\n        ],\n        \"semantic_type\": \"\",\n        \"description\": \"\"\n      }\n    },\n    {\n      \"column\": \"filename\",\n      \"properties\": {\n        \"dtype\": \"string\",\n        \"num_unique_values\": 5,\n        \"samples\": [\n          \"/root/.cache/kagglehub/datasets/alexattia/the-simpsons-characters-dataset/versions/4/simpsons_dataset/carl_carlson/pic_0013.jpg\"\n        ],\n        \"semantic_type\": \"\",\n        \"description\": \"\"\n      }\n    }\n  ]\n}"
            }
          },
          "metadata": {},
          "execution_count": 7
        }
      ],
      "execution_count": 7
    },
    {
      "cell_type": "code",
      "source": [
        "class_weights = {}\n",
        "max_samples = max(character_counts[class_name] for class_name in allowed_classes)\n",
        "\n",
        "for idx, class_name in enumerate(allowed_classes):\n",
        "    weight = max_samples / character_counts[class_name]\n",
        "    class_weights[idx] = weight\n",
        "\n",
        "for idx, class_name in enumerate(allowed_classes):\n",
        "    print(f\"{class_name}: {class_weights[idx]:.2f} (Number of images: {character_counts[class_name]})\")"
      ],
      "metadata": {
        "id": "IgnaTYJsje-0",
        "colab": {
          "base_uri": "https://localhost:8080/"
        },
        "outputId": "0016626d-6f90-4e19-8609-5facb20c44e6",
        "ExecuteTime": {
          "end_time": "2025-03-13T06:10:02.000501Z",
          "start_time": "2025-03-13T06:10:01.996480Z"
        }
      },
      "id": "IgnaTYJsje-0",
      "outputs": [
        {
          "output_type": "stream",
          "name": "stdout",
          "text": [
            "homer_simpson: 1.00 (Number of images: 2246)\n",
            "ned_flanders: 1.54 (Number of images: 1454)\n",
            "moe_szyslak: 1.55 (Number of images: 1452)\n",
            "lisa_simpson: 1.66 (Number of images: 1354)\n",
            "bart_simpson: 1.67 (Number of images: 1342)\n",
            "marge_simpson: 1.74 (Number of images: 1291)\n",
            "krusty_the_clown: 1.86 (Number of images: 1206)\n",
            "principal_skinner: 1.88 (Number of images: 1194)\n",
            "charles_montgomery_burns: 1.88 (Number of images: 1193)\n",
            "milhouse_van_houten: 2.08 (Number of images: 1079)\n",
            "chief_wiggum: 2.28 (Number of images: 986)\n",
            "abraham_grampa_simpson: 2.46 (Number of images: 913)\n",
            "sideshow_bob: 2.56 (Number of images: 877)\n"
          ]
        }
      ],
      "execution_count": 8
    },
    {
      "metadata": {
        "colab": {
          "base_uri": "https://localhost:8080/"
        },
        "id": "6da8ab256b14a165",
        "outputId": "824d0f04-3f41-4bb8-e1ff-84ccf3352dac",
        "ExecuteTime": {
          "end_time": "2025-03-13T06:09:22.713848Z",
          "start_time": "2025-03-13T06:09:17.375326Z"
        }
      },
      "cell_type": "code",
      "source": [
        "output_dir = \"./dataset_filtered\"\n",
        "\n",
        "os.makedirs(output_dir, exist_ok=True)\n",
        "train_dir = os.path.join(output_dir, 'train')\n",
        "val_dir = os.path.join(output_dir, 'val')\n",
        "test_dir = os.path.join(output_dir, 'test')\n",
        "os.makedirs(train_dir, exist_ok=True)\n",
        "os.makedirs(val_dir, exist_ok=True)\n",
        "os.makedirs(test_dir, exist_ok=True)\n",
        "\n",
        "for class_name in allowed_classes:\n",
        "    class_path = os.path.join(input_dir, class_name)\n",
        "    all_images = sorted(os.listdir(class_path))\n",
        "    train_files, temp_files = train_test_split(all_images, train_size=TRAIN_SIZE, random_state=42)\n",
        "    val_files, test_files = train_test_split(temp_files, test_size=TEST_SIZE / (1 - TRAIN_SIZE), random_state=42)\n",
        "\n",
        "    for subset, subset_files in zip(['train', 'val', 'test'], [train_files, val_files, test_files]):\n",
        "        subset_class_dir = os.path.join(output_dir, subset, class_name)\n",
        "        os.makedirs(subset_class_dir, exist_ok=True)\n",
        "\n",
        "        for file_name in subset_files:\n",
        "            src_file = os.path.join(class_path, file_name)\n",
        "            dst_file = os.path.join(subset_class_dir, file_name)\n",
        "            shutil.copy(src_file, dst_file)\n",
        "\n",
        "    print(f\"Processing completed for '{class_name}'.\")"
      ],
      "id": "6da8ab256b14a165",
      "outputs": [
        {
          "output_type": "stream",
          "name": "stdout",
          "text": [
            "Processing completed for 'homer_simpson'.\n",
            "Processing completed for 'ned_flanders'.\n",
            "Processing completed for 'moe_szyslak'.\n",
            "Processing completed for 'lisa_simpson'.\n",
            "Processing completed for 'bart_simpson'.\n",
            "Processing completed for 'marge_simpson'.\n",
            "Processing completed for 'krusty_the_clown'.\n",
            "Processing completed for 'principal_skinner'.\n",
            "Processing completed for 'charles_montgomery_burns'.\n",
            "Processing completed for 'milhouse_van_houten'.\n",
            "Processing completed for 'chief_wiggum'.\n",
            "Processing completed for 'abraham_grampa_simpson'.\n",
            "Processing completed for 'sideshow_bob'.\n"
          ]
        }
      ],
      "execution_count": 9
    },
    {
      "metadata": {
        "id": "75b755d086495cf5",
        "ExecuteTime": {
          "end_time": "2025-03-13T06:20:47.067444Z",
          "start_time": "2025-03-13T06:20:47.009775Z"
        }
      },
      "cell_type": "code",
      "source": [
        "import torch\n",
        "from torch.utils.data import DataLoader\n",
        "from torchvision import datasets, transforms\n",
        "\n",
        "\n",
        "transform = transforms.Compose([\n",
        "    transforms.Resize(IMAGE_SIZE),\n",
        "    transforms.ToTensor(),\n",
        "    transforms.Normalize(mean=[0.5, 0.5, 0.5], std=[0.5, 0.5, 0.5])\n",
        "])\n",
        "\n",
        "train_dataset = datasets.ImageFolder(root=train_dir, transform=transform)\n",
        "validation_dataset = datasets.ImageFolder(root=val_dir, transform=transform)\n",
        "test_dataset = datasets.ImageFolder(root=test_dir, transform=transform)\n",
        "\n",
        "train_loader = DataLoader(train_dataset, batch_size=BATCH_SIZE, shuffle=True)\n",
        "validation_loader = DataLoader(validation_dataset, batch_size=BATCH_SIZE, shuffle=False)\n",
        "test_loader = DataLoader(test_dataset, batch_size=BATCH_SIZE, shuffle=False)\n"
      ],
      "id": "75b755d086495cf5",
      "outputs": [],
      "execution_count": 10
    },
    {
      "metadata": {
        "id": "282c710f6c3d4975",
        "ExecuteTime": {
          "end_time": "2025-03-13T04:26:19.444356Z",
          "start_time": "2025-03-13T04:26:19.442562Z"
        }
      },
      "cell_type": "code",
      "source": [],
      "id": "282c710f6c3d4975",
      "outputs": [],
      "execution_count": 10
    },
    {
      "metadata": {
        "id": "ae29a7fcfa59d1cd",
        "ExecuteTime": {
          "end_time": "2025-03-13T15:34:51.711742Z",
          "start_time": "2025-03-13T15:34:51.700401Z"
        }
      },
      "cell_type": "code",
      "source": [
        "class SimpsonClassifierCNNNet(nn.Module):\n",
        "    def __init__(self):\n",
        "        super().__init__()\n",
        "\n",
        "        # --- Conv\n",
        "        self.conv1 = nn.Conv2d(in_channels=3, out_channels=32, kernel_size=3, padding=1)\n",
        "        self.conv2 = nn.Conv2d(32, 64, kernel_size=3, padding=1)\n",
        "        self.conv3 = nn.Conv2d(64, 128, kernel_size=3, padding=1)\n",
        "        self.conv4 = nn.Conv2d(128, 256, kernel_size=3, padding=1)\n",
        "        self.conv5 = nn.Conv2d(256, 512, kernel_size=3, padding=1)\n",
        "        self.conv6 = nn.Conv2d(512, 1024, kernel_size=3, padding=1)\n",
        "\n",
        "        # --- Batchnorm\n",
        "        self.bn1 = nn.BatchNorm2d(32)\n",
        "        self.bn2 = nn.BatchNorm2d(64)\n",
        "        self.bn3 = nn.BatchNorm2d(128)\n",
        "        self.bn4 = nn.BatchNorm2d(256)\n",
        "        self.bn5 = nn.BatchNorm2d(512)\n",
        "        self.bn6 = nn.BatchNorm2d(1024)\n",
        "        self.bnfc = nn.BatchNorm1d(576)\n",
        "\n",
        "        # --- Activation\n",
        "        self.relu = nn.ReLU()\n",
        "\n",
        "        # --- Xaxpool\n",
        "        self.pool = nn.MaxPool2d(kernel_size=2, stride=2)\n",
        "        self.global_pool = nn.AdaptiveAvgPool2d((1, 1))\n",
        "\n",
        "        # --- FC\n",
        "        self.fc1 = nn.Linear(1024, 576)\n",
        "        self.fc2 = nn.Linear(576, len(allowed_classes))\n",
        "\n",
        "        # --- Dropout\n",
        "        self.dropout = nn.Dropout(0.2)\n",
        "        self.dropoutfc = nn.Dropout(0.5)\n",
        "\n",
        "\n",
        "    def forward(self, x):\n",
        "        # --- conv1\n",
        "        x = self.conv1(x)\n",
        "        x = self.bn1(x)\n",
        "        x = self.relu(x)\n",
        "        x = self.pool(x)\n",
        "        x = self.dropout(x)\n",
        "\n",
        "        # --- conv2\n",
        "        x = self.conv2(x)\n",
        "        x = self.bn2(x)\n",
        "        x = self.relu(x)\n",
        "        x = self.pool(x)\n",
        "        x = self.dropout(x)\n",
        "\n",
        "        # --- conv3\n",
        "        x = self.conv3(x)\n",
        "        x = self.bn3(x)\n",
        "        x = self.relu(x)\n",
        "        x = self.pool(x)\n",
        "        x = self.dropout(x)\n",
        "\n",
        "        # --- conv4\n",
        "        x = self.conv4(x)\n",
        "        x = self.bn4(x)\n",
        "        x = self.relu(x)\n",
        "        x = self.pool(x)\n",
        "        x = self.dropout(x)\n",
        "\n",
        "        # --- conv5\n",
        "        x = self.conv5(x)\n",
        "        x = self.bn5(x)\n",
        "        x = self.relu(x)\n",
        "        x = self.pool(x)\n",
        "        x = self.dropout(x)\n",
        "\n",
        "        # --- conv6\n",
        "        x = self.conv6(x)\n",
        "        x = self.bn6(x)\n",
        "        x = self.relu(x)\n",
        "        x = self.pool(x)\n",
        "        x = self.dropout(x)\n",
        "\n",
        "        # --- flatten\n",
        "        x = self.global_pool(x)\n",
        "        x = x.view(x.size(0), -1)\n",
        "\n",
        "        # --- classification\n",
        "        x = self.fc1(x)\n",
        "        x = self.relu(x)\n",
        "        x = self.bnfc(x)\n",
        "        x = self.dropoutfc(x)\n",
        "\n",
        "        x = self.fc2(x)\n",
        "\n",
        "        return x\n"
      ],
      "id": "ae29a7fcfa59d1cd",
      "outputs": [],
      "execution_count": 11
    },
    {
      "metadata": {
        "id": "ae931f20c64f2bfa",
        "colab": {
          "base_uri": "https://localhost:8080/"
        },
        "outputId": "195efe64-a869-4a3f-8a81-39eb861357e0",
        "ExecuteTime": {
          "end_time": "2025-03-13T15:35:07.440321Z",
          "start_time": "2025-03-13T15:35:07.380755Z"
        }
      },
      "cell_type": "code",
      "source": [
        "model = SimpsonClassifierCNNNet()\n",
        "model.to(device)"
      ],
      "id": "ae931f20c64f2bfa",
      "outputs": [
        {
          "output_type": "execute_result",
          "data": {
            "text/plain": [
              "SimpsonClassifierCNNNet(\n",
              "  (conv1): Conv2d(3, 32, kernel_size=(3, 3), stride=(1, 1), padding=(1, 1))\n",
              "  (conv2): Conv2d(32, 64, kernel_size=(3, 3), stride=(1, 1), padding=(1, 1))\n",
              "  (conv3): Conv2d(64, 128, kernel_size=(3, 3), stride=(1, 1), padding=(1, 1))\n",
              "  (conv4): Conv2d(128, 256, kernel_size=(3, 3), stride=(1, 1), padding=(1, 1))\n",
              "  (conv5): Conv2d(256, 512, kernel_size=(3, 3), stride=(1, 1), padding=(1, 1))\n",
              "  (conv6): Conv2d(512, 1024, kernel_size=(3, 3), stride=(1, 1), padding=(1, 1))\n",
              "  (bn1): BatchNorm2d(32, eps=1e-05, momentum=0.1, affine=True, track_running_stats=True)\n",
              "  (bn2): BatchNorm2d(64, eps=1e-05, momentum=0.1, affine=True, track_running_stats=True)\n",
              "  (bn3): BatchNorm2d(128, eps=1e-05, momentum=0.1, affine=True, track_running_stats=True)\n",
              "  (bn4): BatchNorm2d(256, eps=1e-05, momentum=0.1, affine=True, track_running_stats=True)\n",
              "  (bn5): BatchNorm2d(512, eps=1e-05, momentum=0.1, affine=True, track_running_stats=True)\n",
              "  (bn6): BatchNorm2d(1024, eps=1e-05, momentum=0.1, affine=True, track_running_stats=True)\n",
              "  (bnfc): BatchNorm1d(576, eps=1e-05, momentum=0.1, affine=True, track_running_stats=True)\n",
              "  (relu): ReLU()\n",
              "  (pool): MaxPool2d(kernel_size=2, stride=2, padding=0, dilation=1, ceil_mode=False)\n",
              "  (global_pool): AdaptiveAvgPool2d(output_size=(1, 1))\n",
              "  (fc1): Linear(in_features=1024, out_features=576, bias=True)\n",
              "  (fc2): Linear(in_features=576, out_features=13, bias=True)\n",
              "  (dropout): Dropout(p=0.2, inplace=False)\n",
              "  (dropoutfc): Dropout(p=0.5, inplace=False)\n",
              ")"
            ]
          },
          "metadata": {},
          "execution_count": 12
        }
      ],
      "execution_count": 12
    },
    {
      "cell_type": "code",
      "source": [
        "optimizer = torch.optim.Adam(model.parameters(), lr=0.001)"
      ],
      "metadata": {
        "id": "q2BDLkAPL-io",
        "ExecuteTime": {
          "end_time": "2025-03-13T06:11:25.911979Z",
          "start_time": "2025-03-13T06:11:25.908764Z"
        }
      },
      "id": "q2BDLkAPL-io",
      "outputs": [],
      "execution_count": 13
    },
    {
      "metadata": {
        "id": "73a0119d6fa9df54",
        "ExecuteTime": {
          "end_time": "2025-03-13T06:11:26.502304Z",
          "start_time": "2025-03-13T06:11:26.499110Z"
        }
      },
      "cell_type": "code",
      "source": [
        "weights_tensor = torch.tensor([class_weights[idx] for idx in range(len(allowed_classes))], dtype=torch.float32).to(device)\n",
        "\n",
        "criterion = nn.CrossEntropyLoss(weight=weights_tensor)"
      ],
      "id": "73a0119d6fa9df54",
      "outputs": [],
      "execution_count": 14
    },
    {
      "metadata": {
        "id": "_Ql4gLZoL-Z7"
      },
      "cell_type": "code",
      "outputs": [],
      "execution_count": 14,
      "source": [],
      "id": "_Ql4gLZoL-Z7"
    },
    {
      "cell_type": "code",
      "source": [
        "metrics_df = pandas.DataFrame(columns=[\"Epoch\", \"Train Loss\", \"Train Accuracy\", \"Val Loss\", \"Val Accuracy\"])"
      ],
      "metadata": {
        "id": "xzks6X8IRRKZ"
      },
      "id": "xzks6X8IRRKZ",
      "execution_count": 15,
      "outputs": []
    },
    {
      "metadata": {
        "ExecuteTime": {
          "end_time": "2025-03-11T06:52:29.167636Z",
          "start_time": "2025-03-11T06:50:01.550176Z"
        },
        "id": "fb6f8b9f434923fd",
        "colab": {
          "base_uri": "https://localhost:8080/"
        },
        "outputId": "197ef31c-155b-4e4d-cf41-601d6ef306c5"
      },
      "cell_type": "code",
      "source": [
        "for epoch in range(EPOCHS):\n",
        "    # --- train\n",
        "    model.train()\n",
        "    running_loss = 0.0\n",
        "    correct, total = 0, 0\n",
        "\n",
        "    loop = tqdm(train_loader, desc=f\"Эпоха {epoch+1}/{EPOCHS}\")\n",
        "\n",
        "    for images, labels in loop:\n",
        "        images, labels = images.to(device), labels.to(device)\n",
        "        optimizer.zero_grad()\n",
        "        outputs = model(images)\n",
        "        loss = criterion(outputs, labels)\n",
        "        loss.backward()\n",
        "        optimizer.step()\n",
        "\n",
        "        running_loss += loss.item()\n",
        "\n",
        "        _, predicted = torch.max(outputs, dim=1)\n",
        "        correct += (predicted == labels).sum().item()\n",
        "        total += labels.size(0)\n",
        "\n",
        "        train_loss = running_loss / (loop.n + 1)\n",
        "        train_acc = correct / total\n",
        "\n",
        "        loop.set_description(f\"Эпоха {epoch+1}/{EPOCHS}, Train Loss: {train_loss:.4f}, Train Acc: {train_acc:.4f}\")\n",
        "\n",
        "    # --- validation\n",
        "    model.eval()\n",
        "    val_loss, val_correct, val_total = 0.0, 0, 0\n",
        "\n",
        "    with torch.no_grad():\n",
        "        for images, labels in validation_loader:\n",
        "            images, labels = images.to(device), labels.to(device)\n",
        "            outputs = model(images)\n",
        "            loss = criterion(outputs, labels)\n",
        "            val_loss += loss.item()\n",
        "\n",
        "            _, predicted = torch.max(outputs, 1)\n",
        "            val_correct += (predicted == labels).sum().item()\n",
        "            val_total += labels.size(0)\n",
        "\n",
        "    val_loss /= len(validation_loader)\n",
        "    val_acc = val_correct / val_total\n",
        "\n",
        "    new_row = pandas.DataFrame([{\n",
        "    \"Epoch\": epoch + 1,\n",
        "    \"Train Loss\": running_loss / (loop.n + 1),\n",
        "    \"Train Accuracy\": correct / total,\n",
        "    \"Val Loss\": val_loss,\n",
        "    \"Val Accuracy\": val_acc\n",
        "    }])\n",
        "    metrics_df = pandas.concat([metrics_df, new_row], ignore_index=True)\n",
        "\n",
        "    print(f\"Эпоха {epoch+1}: Val Loss = {val_loss:.4f}, Val Accuracy = {val_acc:.4f}\")"
      ],
      "id": "fb6f8b9f434923fd",
      "outputs": [
        {
          "output_type": "stream",
          "name": "stderr",
          "text": [
            "Эпоха 1/30, Train Loss: 1.8288, Train Acc: 0.3941: 100%|██████████| 91/91 [01:20<00:00,  1.13it/s]\n",
            "<ipython-input-16-c3919e21f249>:53: FutureWarning: The behavior of DataFrame concatenation with empty or all-NA entries is deprecated. In a future version, this will no longer exclude empty or all-NA columns when determining the result dtypes. To retain the old behavior, exclude the relevant entries before the concat operation.\n",
            "  metrics_df = pandas.concat([metrics_df, new_row], ignore_index=True)\n"
          ]
        },
        {
          "output_type": "stream",
          "name": "stdout",
          "text": [
            "Эпоха 1: Val Loss = 1.6369, Val Accuracy = 0.4910\n"
          ]
        },
        {
          "output_type": "stream",
          "name": "stderr",
          "text": [
            "Эпоха 2/30, Train Loss: 0.9845, Train Acc: 0.6622: 100%|██████████| 91/91 [01:19<00:00,  1.14it/s]\n"
          ]
        },
        {
          "output_type": "stream",
          "name": "stdout",
          "text": [
            "Эпоха 2: Val Loss = 1.6152, Val Accuracy = 0.5404\n"
          ]
        },
        {
          "output_type": "stream",
          "name": "stderr",
          "text": [
            "Эпоха 3/30, Train Loss: 0.6803, Train Acc: 0.7658: 100%|██████████| 91/91 [01:19<00:00,  1.15it/s]\n"
          ]
        },
        {
          "output_type": "stream",
          "name": "stdout",
          "text": [
            "Эпоха 3: Val Loss = 0.7724, Val Accuracy = 0.7557\n"
          ]
        },
        {
          "output_type": "stream",
          "name": "stderr",
          "text": [
            "Эпоха 4/30, Train Loss: 0.5018, Train Acc: 0.8291: 100%|██████████| 91/91 [01:19<00:00,  1.15it/s]\n"
          ]
        },
        {
          "output_type": "stream",
          "name": "stdout",
          "text": [
            "Эпоха 4: Val Loss = 1.0096, Val Accuracy = 0.6822\n"
          ]
        },
        {
          "output_type": "stream",
          "name": "stderr",
          "text": [
            "Эпоха 5/30, Train Loss: 0.3995, Train Acc: 0.8662: 100%|██████████| 91/91 [01:18<00:00,  1.16it/s]\n"
          ]
        },
        {
          "output_type": "stream",
          "name": "stdout",
          "text": [
            "Эпоха 5: Val Loss = 0.4973, Val Accuracy = 0.8485\n"
          ]
        },
        {
          "output_type": "stream",
          "name": "stderr",
          "text": [
            "Эпоха 6/30, Train Loss: 0.3278, Train Acc: 0.8915: 100%|██████████| 91/91 [01:19<00:00,  1.14it/s]\n"
          ]
        },
        {
          "output_type": "stream",
          "name": "stdout",
          "text": [
            "Эпоха 6: Val Loss = 0.5034, Val Accuracy = 0.8465\n"
          ]
        },
        {
          "output_type": "stream",
          "name": "stderr",
          "text": [
            "Эпоха 7/30, Train Loss: 0.2583, Train Acc: 0.9167: 100%|██████████| 91/91 [01:19<00:00,  1.15it/s]\n"
          ]
        },
        {
          "output_type": "stream",
          "name": "stdout",
          "text": [
            "Эпоха 7: Val Loss = 0.6426, Val Accuracy = 0.8252\n"
          ]
        },
        {
          "output_type": "stream",
          "name": "stderr",
          "text": [
            "Эпоха 8/30, Train Loss: 0.2191, Train Acc: 0.9280: 100%|██████████| 91/91 [01:18<00:00,  1.15it/s]\n"
          ]
        },
        {
          "output_type": "stream",
          "name": "stdout",
          "text": [
            "Эпоха 8: Val Loss = 0.4042, Val Accuracy = 0.8803\n"
          ]
        },
        {
          "output_type": "stream",
          "name": "stderr",
          "text": [
            "Эпоха 9/30, Train Loss: 0.1932, Train Acc: 0.9355: 100%|██████████| 91/91 [01:19<00:00,  1.14it/s]\n"
          ]
        },
        {
          "output_type": "stream",
          "name": "stdout",
          "text": [
            "Эпоха 9: Val Loss = 0.3959, Val Accuracy = 0.8811\n"
          ]
        },
        {
          "output_type": "stream",
          "name": "stderr",
          "text": [
            "Эпоха 10/30, Train Loss: 0.1672, Train Acc: 0.9435: 100%|██████████| 91/91 [01:19<00:00,  1.15it/s]\n"
          ]
        },
        {
          "output_type": "stream",
          "name": "stdout",
          "text": [
            "Эпоха 10: Val Loss = 0.6395, Val Accuracy = 0.8164\n"
          ]
        },
        {
          "output_type": "stream",
          "name": "stderr",
          "text": [
            "Эпоха 11/30, Train Loss: 0.1294, Train Acc: 0.9578: 100%|██████████| 91/91 [01:19<00:00,  1.15it/s]\n"
          ]
        },
        {
          "output_type": "stream",
          "name": "stdout",
          "text": [
            "Эпоха 11: Val Loss = 0.5203, Val Accuracy = 0.8501\n"
          ]
        },
        {
          "output_type": "stream",
          "name": "stderr",
          "text": [
            "Эпоха 12/30, Train Loss: 0.1103, Train Acc: 0.9642: 100%|██████████| 91/91 [01:19<00:00,  1.14it/s]\n"
          ]
        },
        {
          "output_type": "stream",
          "name": "stdout",
          "text": [
            "Эпоха 12: Val Loss = 0.4330, Val Accuracy = 0.8859\n"
          ]
        },
        {
          "output_type": "stream",
          "name": "stderr",
          "text": [
            "Эпоха 13/30, Train Loss: 0.1028, Train Acc: 0.9650: 100%|██████████| 91/91 [01:19<00:00,  1.15it/s]\n"
          ]
        },
        {
          "output_type": "stream",
          "name": "stdout",
          "text": [
            "Эпоха 13: Val Loss = 0.5819, Val Accuracy = 0.8401\n"
          ]
        },
        {
          "output_type": "stream",
          "name": "stderr",
          "text": [
            "Эпоха 14/30, Train Loss: 0.0853, Train Acc: 0.9723: 100%|██████████| 91/91 [01:19<00:00,  1.15it/s]\n"
          ]
        },
        {
          "output_type": "stream",
          "name": "stdout",
          "text": [
            "Эпоха 14: Val Loss = 0.3706, Val Accuracy = 0.8984\n"
          ]
        },
        {
          "output_type": "stream",
          "name": "stderr",
          "text": [
            "Эпоха 15/30, Train Loss: 0.0776, Train Acc: 0.9760: 100%|██████████| 91/91 [01:19<00:00,  1.15it/s]\n"
          ]
        },
        {
          "output_type": "stream",
          "name": "stdout",
          "text": [
            "Эпоха 15: Val Loss = 0.4369, Val Accuracy = 0.8883\n"
          ]
        },
        {
          "output_type": "stream",
          "name": "stderr",
          "text": [
            "Эпоха 16/30, Train Loss: 0.0657, Train Acc: 0.9783: 100%|██████████| 91/91 [01:18<00:00,  1.15it/s]\n"
          ]
        },
        {
          "output_type": "stream",
          "name": "stdout",
          "text": [
            "Эпоха 16: Val Loss = 0.2701, Val Accuracy = 0.9289\n"
          ]
        },
        {
          "output_type": "stream",
          "name": "stderr",
          "text": [
            "Эпоха 17/30, Train Loss: 0.0518, Train Acc: 0.9829: 100%|██████████| 91/91 [01:19<00:00,  1.15it/s]\n"
          ]
        },
        {
          "output_type": "stream",
          "name": "stdout",
          "text": [
            "Эпоха 17: Val Loss = 0.2567, Val Accuracy = 0.9373\n"
          ]
        },
        {
          "output_type": "stream",
          "name": "stderr",
          "text": [
            "Эпоха 18/30, Train Loss: 0.0453, Train Acc: 0.9852: 100%|██████████| 91/91 [01:18<00:00,  1.15it/s]\n"
          ]
        },
        {
          "output_type": "stream",
          "name": "stdout",
          "text": [
            "Эпоха 18: Val Loss = 0.2849, Val Accuracy = 0.9269\n"
          ]
        },
        {
          "output_type": "stream",
          "name": "stderr",
          "text": [
            "Эпоха 19/30, Train Loss: 0.0459, Train Acc: 0.9848: 100%|██████████| 91/91 [01:19<00:00,  1.14it/s]\n"
          ]
        },
        {
          "output_type": "stream",
          "name": "stdout",
          "text": [
            "Эпоха 19: Val Loss = 0.3051, Val Accuracy = 0.9176\n"
          ]
        },
        {
          "output_type": "stream",
          "name": "stderr",
          "text": [
            "Эпоха 20/30, Train Loss: 0.0476, Train Acc: 0.9842: 100%|██████████| 91/91 [01:19<00:00,  1.14it/s]\n"
          ]
        },
        {
          "output_type": "stream",
          "name": "stdout",
          "text": [
            "Эпоха 20: Val Loss = 0.2131, Val Accuracy = 0.9490\n"
          ]
        },
        {
          "output_type": "stream",
          "name": "stderr",
          "text": [
            "Эпоха 21/30, Train Loss: 0.0425, Train Acc: 0.9865: 100%|██████████| 91/91 [01:18<00:00,  1.15it/s]\n"
          ]
        },
        {
          "output_type": "stream",
          "name": "stdout",
          "text": [
            "Эпоха 21: Val Loss = 0.2257, Val Accuracy = 0.9454\n"
          ]
        },
        {
          "output_type": "stream",
          "name": "stderr",
          "text": [
            "Эпоха 22/30, Train Loss: 0.0324, Train Acc: 0.9905: 100%|██████████| 91/91 [01:19<00:00,  1.15it/s]\n"
          ]
        },
        {
          "output_type": "stream",
          "name": "stdout",
          "text": [
            "Эпоха 22: Val Loss = 0.2389, Val Accuracy = 0.9409\n"
          ]
        },
        {
          "output_type": "stream",
          "name": "stderr",
          "text": [
            "Эпоха 23/30, Train Loss: 0.0422, Train Acc: 0.9857: 100%|██████████| 91/91 [01:19<00:00,  1.15it/s]\n"
          ]
        },
        {
          "output_type": "stream",
          "name": "stdout",
          "text": [
            "Эпоха 23: Val Loss = 0.2298, Val Accuracy = 0.9490\n"
          ]
        },
        {
          "output_type": "stream",
          "name": "stderr",
          "text": [
            "Эпоха 24/30, Train Loss: 0.0283, Train Acc: 0.9910: 100%|██████████| 91/91 [01:18<00:00,  1.16it/s]\n"
          ]
        },
        {
          "output_type": "stream",
          "name": "stdout",
          "text": [
            "Эпоха 24: Val Loss = 0.2291, Val Accuracy = 0.9494\n"
          ]
        },
        {
          "output_type": "stream",
          "name": "stderr",
          "text": [
            "Эпоха 25/30, Train Loss: 0.0203, Train Acc: 0.9943: 100%|██████████| 91/91 [01:19<00:00,  1.15it/s]\n"
          ]
        },
        {
          "output_type": "stream",
          "name": "stdout",
          "text": [
            "Эпоха 25: Val Loss = 0.3671, Val Accuracy = 0.9040\n"
          ]
        },
        {
          "output_type": "stream",
          "name": "stderr",
          "text": [
            "Эпоха 26/30, Train Loss: 0.0290, Train Acc: 0.9911: 100%|██████████| 91/91 [01:18<00:00,  1.15it/s]\n"
          ]
        },
        {
          "output_type": "stream",
          "name": "stdout",
          "text": [
            "Эпоха 26: Val Loss = 0.1978, Val Accuracy = 0.9562\n"
          ]
        },
        {
          "output_type": "stream",
          "name": "stderr",
          "text": [
            "Эпоха 27/30, Train Loss: 0.0217, Train Acc: 0.9932: 100%|██████████| 91/91 [01:19<00:00,  1.15it/s]\n"
          ]
        },
        {
          "output_type": "stream",
          "name": "stdout",
          "text": [
            "Эпоха 27: Val Loss = 0.2470, Val Accuracy = 0.9446\n"
          ]
        },
        {
          "output_type": "stream",
          "name": "stderr",
          "text": [
            "Эпоха 28/30, Train Loss: 0.0352, Train Acc: 0.9873: 100%|██████████| 91/91 [01:18<00:00,  1.16it/s]\n"
          ]
        },
        {
          "output_type": "stream",
          "name": "stdout",
          "text": [
            "Эпоха 28: Val Loss = 0.3658, Val Accuracy = 0.9136\n"
          ]
        },
        {
          "output_type": "stream",
          "name": "stderr",
          "text": [
            "Эпоха 29/30, Train Loss: 0.0380, Train Acc: 0.9872: 100%|██████████| 91/91 [01:19<00:00,  1.15it/s]\n"
          ]
        },
        {
          "output_type": "stream",
          "name": "stdout",
          "text": [
            "Эпоха 29: Val Loss = 0.3068, Val Accuracy = 0.9325\n"
          ]
        },
        {
          "output_type": "stream",
          "name": "stderr",
          "text": [
            "Эпоха 30/30, Train Loss: 0.0388, Train Acc: 0.9883: 100%|██████████| 91/91 [01:22<00:00,  1.10it/s]\n"
          ]
        },
        {
          "output_type": "stream",
          "name": "stdout",
          "text": [
            "Эпоха 30: Val Loss = 0.3331, Val Accuracy = 0.9213\n"
          ]
        }
      ],
      "execution_count": 16
    },
    {
      "metadata": {
        "id": "602e96ef15fcad64",
        "ExecuteTime": {
          "end_time": "2025-03-13T06:10:17.255344Z",
          "start_time": "2025-03-13T06:10:17.236944Z"
        }
      },
      "cell_type": "code",
      "source": [
        "metrics_df.to_csv(\"model.csv\", index=False)\n",
        "torch.save(model.state_dict(), 'model.pth')"
      ],
      "id": "602e96ef15fcad64",
      "outputs": [],
      "execution_count": 17
    },
    {
      "cell_type": "code",
      "source": [
        "model.load_state_dict(torch.load('model.pth', map_location=device))\n",
        "model.eval()"
      ],
      "metadata": {
        "id": "rPeqNxTUWqpW",
        "ExecuteTime": {
          "end_time": "2025-03-13T15:34:44.482735Z",
          "start_time": "2025-03-13T15:34:44.236979Z"
        },
        "colab": {
          "base_uri": "https://localhost:8080/"
        },
        "outputId": "10456837-03c2-443d-be83-72d994c80f6f"
      },
      "id": "rPeqNxTUWqpW",
      "outputs": [
        {
          "output_type": "stream",
          "name": "stderr",
          "text": [
            "<ipython-input-18-d8ab9da5be89>:1: FutureWarning: You are using `torch.load` with `weights_only=False` (the current default value), which uses the default pickle module implicitly. It is possible to construct malicious pickle data which will execute arbitrary code during unpickling (See https://github.com/pytorch/pytorch/blob/main/SECURITY.md#untrusted-models for more details). In a future release, the default value for `weights_only` will be flipped to `True`. This limits the functions that could be executed during unpickling. Arbitrary objects will no longer be allowed to be loaded via this mode unless they are explicitly allowlisted by the user via `torch.serialization.add_safe_globals`. We recommend you start setting `weights_only=True` for any use case where you don't have full control of the loaded file. Please open an issue on GitHub for any issues related to this experimental feature.\n",
            "  model.load_state_dict(torch.load('model.pth', map_location=device))\n"
          ]
        },
        {
          "output_type": "execute_result",
          "data": {
            "text/plain": [
              "SimpsonClassifierCNNNet(\n",
              "  (conv1): Conv2d(3, 32, kernel_size=(3, 3), stride=(1, 1), padding=(1, 1))\n",
              "  (conv2): Conv2d(32, 64, kernel_size=(3, 3), stride=(1, 1), padding=(1, 1))\n",
              "  (conv3): Conv2d(64, 128, kernel_size=(3, 3), stride=(1, 1), padding=(1, 1))\n",
              "  (conv4): Conv2d(128, 256, kernel_size=(3, 3), stride=(1, 1), padding=(1, 1))\n",
              "  (conv5): Conv2d(256, 512, kernel_size=(3, 3), stride=(1, 1), padding=(1, 1))\n",
              "  (conv6): Conv2d(512, 1024, kernel_size=(3, 3), stride=(1, 1), padding=(1, 1))\n",
              "  (bn1): BatchNorm2d(32, eps=1e-05, momentum=0.1, affine=True, track_running_stats=True)\n",
              "  (bn2): BatchNorm2d(64, eps=1e-05, momentum=0.1, affine=True, track_running_stats=True)\n",
              "  (bn3): BatchNorm2d(128, eps=1e-05, momentum=0.1, affine=True, track_running_stats=True)\n",
              "  (bn4): BatchNorm2d(256, eps=1e-05, momentum=0.1, affine=True, track_running_stats=True)\n",
              "  (bn5): BatchNorm2d(512, eps=1e-05, momentum=0.1, affine=True, track_running_stats=True)\n",
              "  (bn6): BatchNorm2d(1024, eps=1e-05, momentum=0.1, affine=True, track_running_stats=True)\n",
              "  (bnfc): BatchNorm1d(576, eps=1e-05, momentum=0.1, affine=True, track_running_stats=True)\n",
              "  (relu): ReLU()\n",
              "  (pool): MaxPool2d(kernel_size=2, stride=2, padding=0, dilation=1, ceil_mode=False)\n",
              "  (global_pool): AdaptiveAvgPool2d(output_size=(1, 1))\n",
              "  (fc1): Linear(in_features=1024, out_features=576, bias=True)\n",
              "  (fc2): Linear(in_features=576, out_features=13, bias=True)\n",
              "  (dropout): Dropout(p=0.2, inplace=False)\n",
              "  (dropoutfc): Dropout(p=0.5, inplace=False)\n",
              ")"
            ]
          },
          "metadata": {},
          "execution_count": 18
        }
      ],
      "execution_count": 18
    },
    {
      "metadata": {
        "ExecuteTime": {
          "end_time": "2025-03-13T06:11:37.217362Z",
          "start_time": "2025-03-13T06:11:34.191228Z"
        },
        "colab": {
          "base_uri": "https://localhost:8080/",
          "height": 711
        },
        "id": "826ec881cafda044",
        "outputId": "3cf331d3-7137-4e85-813f-cab167a68c14"
      },
      "cell_type": "code",
      "source": [
        "import pandas as pd\n",
        "import matplotlib.pyplot as plt\n",
        "\n",
        "file_path = \"model.csv\"\n",
        "df = pd.read_csv(file_path)\n",
        "\n",
        "epochs = df[\"Epoch\"]\n",
        "train_loss = df[\"Train Loss\"]\n",
        "train_acc = df[\"Train Accuracy\"]\n",
        "val_loss = df[\"Val Loss\"]\n",
        "val_acc = df[\"Val Accuracy\"]\n",
        "\n",
        "plt.figure(figsize=(10, 5))\n",
        "plt.plot(epochs, train_loss, label=\"Train Loss\", color='blue', linestyle='dashed', marker='o')\n",
        "plt.plot(epochs, val_loss, label=\"Validation Loss\", color='red', linestyle='dashed', marker='s')\n",
        "plt.xlabel(\"Epochs\")\n",
        "plt.ylabel(\"Loss\")\n",
        "plt.title(\"Training and Validation Loss\")\n",
        "plt.legend()\n",
        "plt.grid()\n",
        "plt.show()\n",
        "\n",
        "# Построение графиков точности\n",
        "plt.figure(figsize=(10, 5))\n",
        "plt.plot(epochs, train_acc, label=\"Train Accuracy\", color='green', linestyle='solid', marker='o')\n",
        "plt.plot(epochs, val_acc, label=\"Validation Accuracy\", color='orange', linestyle='solid', marker='s')\n",
        "plt.xlabel(\"Epochs\")\n",
        "plt.ylabel(\"Accuracy\")\n",
        "plt.title(\"Training and Validation Accuracy\")\n",
        "plt.legend()\n",
        "plt.grid()\n",
        "plt.show()"
      ],
      "id": "826ec881cafda044",
      "outputs": [
        {
          "output_type": "display_data",
          "data": {
            "text/plain": [
              "<Figure size 1000x500 with 1 Axes>"
            ],
            "image/png": "[encoded data removed]"
          },
          "metadata": {}
        },
        {
          "output_type": "display_data",
          "data": {
            "text/plain": [
              "<Figure size 1000x500 with 1 Axes>"
            ],
            "image/png": "[encoded data removed]"
          },
          "metadata": {}
        }
      ],
      "execution_count": 19
    },
    {
      "metadata": {
        "ExecuteTime": {
          "end_time": "2025-03-13T06:28:30.737229Z",
          "start_time": "2025-03-13T06:28:08.233860Z"
        },
        "colab": {
          "base_uri": "https://localhost:8080/"
        },
        "id": "97cd6c9d38772772",
        "outputId": "d4dc684d-9a48-4afd-aff9-79f38f8c42ba"
      },
      "cell_type": "code",
      "source": [
        "import numpy as np\n",
        "\n",
        "y_true = []\n",
        "y_pred = []\n",
        "\n",
        "for batch_images, batch_labels in tqdm(test_loader):\n",
        "    batch_images = batch_images.to(device)\n",
        "    batch_predictions = model(batch_images)\n",
        "    batch_pred_labels = np.argmax(batch_predictions.detach().cpu().numpy(), axis=1)\n",
        "\n",
        "    y_true.extend(batch_labels.detach().cpu().numpy())\n",
        "    y_pred.extend(batch_pred_labels)\n",
        "\n",
        "y_true = np.array(y_true)\n",
        "y_pred = np.array(y_pred)"
      ],
      "id": "97cd6c9d38772772",
      "outputs": [
        {
          "output_type": "stream",
          "name": "stderr",
          "text": [
            "100%|██████████| 20/20 [00:13<00:00,  1.50it/s]\n"
          ]
        }
      ],
      "execution_count": 20
    },
    {
      "metadata": {
        "ExecuteTime": {
          "end_time": "2025-03-13T06:28:31.455067Z",
          "start_time": "2025-03-13T06:28:31.136925Z"
        },
        "colab": {
          "base_uri": "https://localhost:8080/",
          "height": 556
        },
        "id": "95e656c7509af649",
        "outputId": "a85a4e2b-50c8-41f4-a1e9-d7c79a303cb9"
      },
      "cell_type": "code",
      "source": [
        "plt.figure(figsize=(15, 12))\n",
        "cm = confusion_matrix(y_true, y_pred)\n",
        "sns.heatmap(cm,\n",
        "            annot=True,\n",
        "            fmt='d',\n",
        "            cmap='Blues',\n",
        "            xticklabels=[name.replace('_', ' ') for name in allowed_classes],\n",
        "            yticklabels=[name.replace('_', ' ') for name in allowed_classes])\n",
        "\n",
        "plt.title('Confusion Matrix')\n",
        "plt.xlabel('Predicted')\n",
        "plt.ylabel('Actual')\n",
        "plt.xticks(rotation=45, ha='right')\n",
        "plt.yticks(rotation=0)\n",
        "plt.tight_layout()\n",
        "plt.show()"
      ],
      "id": "95e656c7509af649",
      "outputs": [
        {
          "output_type": "display_data",
          "data": {
            "text/plain": [
              "<Figure size 1500x1200 with 2 Axes>"
            ],
            "image/png": "[encoded data removed]"
          },
          "metadata": {}
        }
      ],
      "execution_count": 21
    },
    {
      "metadata": {
        "colab": {
          "base_uri": "https://localhost:8080/"
        },
        "id": "e41316cf74f1fb78",
        "outputId": "dcdf374e-00d1-4096-fc9c-c5959e602319"
      },
      "cell_type": "code",
      "outputs": [
        {
          "output_type": "stream",
          "name": "stdout",
          "text": [
            "Class homer_simpson: Accuracy = 0.9489\n",
            "Class ned_flanders: Accuracy = 0.9010\n",
            "Class moe_szyslak: Accuracy = 0.9777\n",
            "Class lisa_simpson: Accuracy = 0.9257\n",
            "Class bart_simpson: Accuracy = 0.9110\n",
            "Class marge_simpson: Accuracy = 0.9834\n",
            "Class krusty_the_clown: Accuracy = 0.7108\n",
            "Class principal_skinner: Accuracy = 0.9485\n",
            "Class charles_montgomery_burns: Accuracy = 0.9691\n",
            "Class milhouse_van_houten: Accuracy = 0.8165\n",
            "Class chief_wiggum: Accuracy = 0.9361\n",
            "Class abraham_grampa_simpson: Accuracy = 0.9389\n",
            "Class sideshow_bob: Accuracy = 0.9697\n"
          ]
        }
      ],
      "execution_count": 23,
      "source": [
        "num_classes = len(np.unique(y_true))  # Определяем количество классов\n",
        "class_accuracies = {}\n",
        "\n",
        "for cls in range(num_classes):\n",
        "    cls_mask = (y_true == cls)\n",
        "    class_accuracies[cls] = accuracy_score(y_true[cls_mask], y_pred[cls_mask])\n",
        "\n",
        "for cls, acc in class_accuracies.items():\n",
        "    print(f\"Class {allowed_classes[cls]}: Accuracy = {acc:.4f}\")"
      ],
      "id": "e41316cf74f1fb78"
    }
  ],
  "metadata": {
    "kernelspec": {
      "display_name": "Python 3 (ipykernel)",
      "name": "python3",
      "language": "python"
    },
    "language_info": {
      "codemirror_mode": {
        "name": "ipython",
        "version": 2
      },
      "file_extension": ".py",
      "mimetype": "text/x-python",
      "name": "python",
      "nbconvert_exporter": "python",
      "pygments_lexer": "ipython2",
      "version": "2.7.6"
    },
    "colab": {
      "provenance": [],
      "gpuType": "T4"
    },
    "accelerator": "GPU"
  },
  "nbformat": 4,
  "nbformat_minor": 5
}