{
 "cells": [
  {
   "cell_type": "code",
   "execution_count": null,
   "id": "76a83602213c4cee",
   "metadata": {
    "id": "76a83602213c4cee"
   },
   "outputs": [],
   "source": [
    "#pip install -U scikit-learn"
   ]
  },
  {
   "cell_type": "code",
   "id": "cb394172bb145d6",
   "metadata": {
    "id": "cb394172bb145d6",
    "ExecuteTime": {
     "end_time": "2025-04-09T13:45:29.554792Z",
     "start_time": "2025-04-09T13:45:25.719115Z"
    }
   },
   "source": [
    "import torch\n",
    "import torch.nn as nn\n",
    "\n",
    "from sklearn.model_selection import train_test_split\n",
    "from sklearn.metrics import confusion_matrix, classification_report, accuracy_score\n",
    "\n",
    "import seaborn as sns\n",
    "\n",
    "from tqdm import tqdm\n",
    "\n",
    "import shutil"
   ],
   "outputs": [],
   "execution_count": 1
  },
  {
   "cell_type": "code",
   "id": "initial_id",
   "metadata": {
    "colab": {
     "base_uri": "https://localhost:8080/"
    },
    "id": "initial_id",
    "outputId": "7c2fd6c0-d9d5-4cd2-f039-451d09a120c9",
    "ExecuteTime": {
     "end_time": "2025-04-09T13:47:22.111277Z",
     "start_time": "2025-04-09T13:47:20.473320Z"
    }
   },
   "source": [
    "import kagglehub\n",
    "\n",
    "# Download latest version\n",
    "DATASET_PATH = kagglehub.dataset_download(\"alexattia/the-simpsons-characters-dataset\")"
   ],
   "outputs": [
    {
     "name": "stderr",
     "output_type": "stream",
     "text": [
      "/Users/andrejalekseevic/PycharmProjects/neuralNetworksNSU2025/.venv/lib/python3.9/site-packages/tqdm/auto.py:21: TqdmWarning: IProgress not found. Please update jupyter and ipywidgets. See https://ipywidgets.readthedocs.io/en/stable/user_install.html\n",
      "  from .autonotebook import tqdm as notebook_tqdm\n"
     ]
    },
    {
     "name": "stdout",
     "output_type": "stream",
     "text": [
      "Warning: Looks like you're using an outdated `kagglehub` version (installed: 0.3.10), please consider upgrading to the latest version (0.3.11).\n"
     ]
    }
   ],
   "execution_count": 7
  },
  {
   "cell_type": "code",
   "id": "cdc5feada0b16608",
   "metadata": {
    "id": "cdc5feada0b16608",
    "ExecuteTime": {
     "end_time": "2025-04-09T13:46:03.501305Z",
     "start_time": "2025-04-09T13:46:03.497662Z"
    }
   },
   "source": [
    "IMAGE_SIZE = (224, 224)\n",
    "BATCH_SIZE = 128\n",
    "NUM_CLASS = 13\n",
    "\n",
    "EPOCHS = 50\n",
    "\n",
    "device = torch.device('cuda')\n",
    "\n",
    "TRAIN_SIZE = 0.7\n",
    "VAL_SIZE = 0.15\n",
    "TEST_SIZE = 0.15"
   ],
   "outputs": [],
   "execution_count": 2
  },
  {
   "cell_type": "code",
   "id": "515905e86987bb9f",
   "metadata": {
    "id": "515905e86987bb9f",
    "ExecuteTime": {
     "end_time": "2025-04-09T13:47:26.518403Z",
     "start_time": "2025-04-09T13:47:26.149371Z"
    }
   },
   "source": [
    "import os\n",
    "import pandas\n",
    "\n",
    "input_dir = DATASET_PATH + \"/simpsons_dataset\"\n",
    "\n",
    "character_counts = {}\n",
    "\n",
    "data = []\n",
    "\n",
    "for character_folder in os.listdir(input_dir):\n",
    "    character_folder_path = os.path.join(input_dir, character_folder)\n",
    "\n",
    "    if os.path.isdir(character_folder_path):\n",
    "        num_files = len([f for f in os.listdir(character_folder_path) if os.path.isfile(os.path.join(character_folder_path, f))])\n",
    "        character_counts[character_folder] = num_files\n",
    "\n",
    "    for character_folder in os.listdir(input_dir):\n",
    "        character_folder_path = os.path.join(input_dir, character_folder)\n",
    "        if os.path.isdir(character_folder_path):\n",
    "            for filename in os.listdir(character_folder_path):\n",
    "                file_path = os.path.join(character_folder_path, filename)\n",
    "                if os.path.isfile(file_path):\n",
    "                    data.append([character_folder, file_path])\n",
    "\n",
    "df = pandas.DataFrame(data, columns=[\"character_folder\", \"filename\"])"
   ],
   "outputs": [],
   "execution_count": 8
  },
  {
   "cell_type": "code",
   "id": "60c84f393066f22b",
   "metadata": {
    "colab": {
     "base_uri": "https://localhost:8080/"
    },
    "id": "60c84f393066f22b",
    "outputId": "5983dc23-5dd2-4e82-e054-1d15e0a6d008",
    "ExecuteTime": {
     "end_time": "2025-04-09T14:01:17.411355Z",
     "start_time": "2025-04-09T14:01:17.407387Z"
    }
   },
   "source": [
    "allowed_classes = []\n",
    "\n",
    "sorted_counts = list(sorted(character_counts.items(), key=lambda x: -x[1]))\n",
    "for character, count in sorted_counts:\n",
    "    print(f\"{character}: {count} images\")\n",
    "    allowed_classes.append(character)\n",
    "\n",
    "allowed_classes = allowed_classes[:NUM_CLASS]"
   ],
   "outputs": [
    {
     "name": "stdout",
     "output_type": "stream",
     "text": [
      "homer_simpson: 2246 images\n",
      "ned_flanders: 1454 images\n",
      "moe_szyslak: 1452 images\n",
      "lisa_simpson: 1354 images\n",
      "bart_simpson: 1342 images\n",
      "marge_simpson: 1291 images\n",
      "krusty_the_clown: 1206 images\n",
      "principal_skinner: 1194 images\n",
      "charles_montgomery_burns: 1193 images\n",
      "milhouse_van_houten: 1079 images\n",
      "chief_wiggum: 986 images\n",
      "abraham_grampa_simpson: 913 images\n",
      "sideshow_bob: 877 images\n",
      "apu_nahasapeemapetilon: 623 images\n",
      "kent_brockman: 498 images\n",
      "comic_book_guy: 469 images\n",
      "edna_krabappel: 457 images\n",
      "nelson_muntz: 358 images\n",
      "lenny_leonard: 310 images\n",
      "mayor_quimby: 246 images\n",
      "waylon_smithers: 181 images\n",
      "maggie_simpson: 128 images\n",
      "groundskeeper_willie: 121 images\n",
      "barney_gumble: 106 images\n",
      "selma_bouvier: 103 images\n",
      "carl_carlson: 98 images\n",
      "ralph_wiggum: 89 images\n",
      "patty_bouvier: 72 images\n",
      "martin_prince: 71 images\n",
      "professor_john_frink: 65 images\n",
      "snake_jailbird: 55 images\n",
      "cletus_spuckler: 47 images\n",
      "rainier_wolfcastle: 45 images\n",
      "agnes_skinner: 42 images\n",
      "sideshow_mel: 40 images\n",
      "otto_mann: 32 images\n",
      "fat_tony: 27 images\n",
      "gil: 27 images\n",
      "miss_hoover: 17 images\n",
      "troy_mcclure: 8 images\n",
      "disco_stu: 8 images\n",
      "lionel_hutz: 3 images\n",
      "simpsons_dataset: 1 images\n"
     ]
    }
   ],
   "execution_count": 13
  },
  {
   "cell_type": "code",
   "execution_count": 6,
   "id": "dafb82d2ee0a6d47",
   "metadata": {
    "ExecuteTime": {
     "end_time": "2025-03-13T06:09:14.654695Z",
     "start_time": "2025-03-13T06:09:14.648339Z"
    },
    "colab": {
     "base_uri": "https://localhost:8080/",
     "height": 223
    },
    "id": "dafb82d2ee0a6d47",
    "outputId": "a8dafbc8-3d6a-4a9c-cdbc-f2f7a1b498c4"
   },
   "outputs": [
    {
     "output_type": "execute_result",
     "data": {
      "text/plain": [
       "  character_folder                                           filename\n",
       "0  cletus_spuckler  /root/.cache/kagglehub/datasets/alexattia/the-...\n",
       "1  cletus_spuckler  /root/.cache/kagglehub/datasets/alexattia/the-...\n",
       "2  cletus_spuckler  /root/.cache/kagglehub/datasets/alexattia/the-...\n",
       "3  cletus_spuckler  /root/.cache/kagglehub/datasets/alexattia/the-...\n",
       "4  cletus_spuckler  /root/.cache/kagglehub/datasets/alexattia/the-..."
      ],
      "text/html": [
       "\n",
       "  <div id=\"df-c78c6a80-2c53-44ba-ad65-3da85ade8658\" class=\"colab-df-container\">\n",
       "    <div>\n",
       "<style scoped>\n",
       "    .dataframe tbody tr th:only-of-type {\n",
       "        vertical-align: middle;\n",
       "    }\n",
       "\n",
       "    .dataframe tbody tr th {\n",
       "        vertical-align: top;\n",
       "    }\n",
       "\n",
       "    .dataframe thead th {\n",
       "        text-align: right;\n",
       "    }\n",
       "</style>\n",
       "<table border=\"1\" class=\"dataframe\">\n",
       "  <thead>\n",
       "    <tr style=\"text-align: right;\">\n",
       "      <th></th>\n",
       "      <th>character_folder</th>\n",
       "      <th>filename</th>\n",
       "    </tr>\n",
       "  </thead>\n",
       "  <tbody>\n",
       "    <tr>\n",
       "      <th>0</th>\n",
       "      <td>cletus_spuckler</td>\n",
       "      <td>/root/.cache/kagglehub/datasets/alexattia/the-...</td>\n",
       "    </tr>\n",
       "    <tr>\n",
       "      <th>1</th>\n",
       "      <td>cletus_spuckler</td>\n",
       "      <td>/root/.cache/kagglehub/datasets/alexattia/the-...</td>\n",
       "    </tr>\n",
       "    <tr>\n",
       "      <th>2</th>\n",
       "      <td>cletus_spuckler</td>\n",
       "      <td>/root/.cache/kagglehub/datasets/alexattia/the-...</td>\n",
       "    </tr>\n",
       "    <tr>\n",
       "      <th>3</th>\n",
       "      <td>cletus_spuckler</td>\n",
       "      <td>/root/.cache/kagglehub/datasets/alexattia/the-...</td>\n",
       "    </tr>\n",
       "    <tr>\n",
       "      <th>4</th>\n",
       "      <td>cletus_spuckler</td>\n",
       "      <td>/root/.cache/kagglehub/datasets/alexattia/the-...</td>\n",
       "    </tr>\n",
       "  </tbody>\n",
       "</table>\n",
       "</div>\n",
       "    <div class=\"colab-df-buttons\">\n",
       "\n",
       "  <div class=\"colab-df-container\">\n",
       "    <button class=\"colab-df-convert\" onclick=\"convertToInteractive('df-c78c6a80-2c53-44ba-ad65-3da85ade8658')\"\n",
       "            title=\"Convert this dataframe to an interactive table.\"\n",
       "            style=\"display:none;\">\n",
       "\n",
       "  <svg xmlns=\"http://www.w3.org/2000/svg\" height=\"24px\" viewBox=\"0 -960 960 960\">\n",
       "    <path d=\"M120-120v-720h720v720H120Zm60-500h600v-160H180v160Zm220 220h160v-160H400v160Zm0 220h160v-160H400v160ZM180-400h160v-160H180v160Zm440 0h160v-160H620v160ZM180-180h160v-160H180v160Zm440 0h160v-160H620v160Z\"/>\n",
       "  </svg>\n",
       "    </button>\n",
       "\n",
       "  <style>\n",
       "    .colab-df-container {\n",
       "      display:flex;\n",
       "      gap: 12px;\n",
       "    }\n",
       "\n",
       "    .colab-df-convert {\n",
       "      background-color: #E8F0FE;\n",
       "      border: none;\n",
       "      border-radius: 50%;\n",
       "      cursor: pointer;\n",
       "      display: none;\n",
       "      fill: #1967D2;\n",
       "      height: 32px;\n",
       "      padding: 0 0 0 0;\n",
       "      width: 32px;\n",
       "    }\n",
       "\n",
       "    .colab-df-convert:hover {\n",
       "      background-color: #E2EBFA;\n",
       "      box-shadow: 0px 1px 2px rgba(60, 64, 67, 0.3), 0px 1px 3px 1px rgba(60, 64, 67, 0.15);\n",
       "      fill: #174EA6;\n",
       "    }\n",
       "\n",
       "    .colab-df-buttons div {\n",
       "      margin-bottom: 4px;\n",
       "    }\n",
       "\n",
       "    [theme=dark] .colab-df-convert {\n",
       "      background-color: #3B4455;\n",
       "      fill: #D2E3FC;\n",
       "    }\n",
       "\n",
       "    [theme=dark] .colab-df-convert:hover {\n",
       "      background-color: #434B5C;\n",
       "      box-shadow: 0px 1px 3px 1px rgba(0, 0, 0, 0.15);\n",
       "      filter: drop-shadow(0px 1px 2px rgba(0, 0, 0, 0.3));\n",
       "      fill: #FFFFFF;\n",
       "    }\n",
       "  </style>\n",
       "\n",
       "    <script>\n",
       "      const buttonEl =\n",
       "        document.querySelector('#df-c78c6a80-2c53-44ba-ad65-3da85ade8658 button.colab-df-convert');\n",
       "      buttonEl.style.display =\n",
       "        google.colab.kernel.accessAllowed ? 'block' : 'none';\n",
       "\n",
       "      async function convertToInteractive(key) {\n",
       "        const element = document.querySelector('#df-c78c6a80-2c53-44ba-ad65-3da85ade8658');\n",
       "        const dataTable =\n",
       "          await google.colab.kernel.invokeFunction('convertToInteractive',\n",
       "                                                    [key], {});\n",
       "        if (!dataTable) return;\n",
       "\n",
       "        const docLinkHtml = 'Like what you see? Visit the ' +\n",
       "          '<a target=\"_blank\" href=https://colab.research.google.com/notebooks/data_table.ipynb>data table notebook</a>'\n",
       "          + ' to learn more about interactive tables.';\n",
       "        element.innerHTML = '';\n",
       "        dataTable['output_type'] = 'display_data';\n",
       "        await google.colab.output.renderOutput(dataTable, element);\n",
       "        const docLink = document.createElement('div');\n",
       "        docLink.innerHTML = docLinkHtml;\n",
       "        element.appendChild(docLink);\n",
       "      }\n",
       "    </script>\n",
       "  </div>\n",
       "\n",
       "\n",
       "<div id=\"df-b6e68158-f6b7-4a2a-b712-8d39fbf58bf1\">\n",
       "  <button class=\"colab-df-quickchart\" onclick=\"quickchart('df-b6e68158-f6b7-4a2a-b712-8d39fbf58bf1')\"\n",
       "            title=\"Suggest charts\"\n",
       "            style=\"display:none;\">\n",
       "\n",
       "<svg xmlns=\"http://www.w3.org/2000/svg\" height=\"24px\"viewBox=\"0 0 24 24\"\n",
       "     width=\"24px\">\n",
       "    <g>\n",
       "        <path d=\"M19 3H5c-1.1 0-2 .9-2 2v14c0 1.1.9 2 2 2h14c1.1 0 2-.9 2-2V5c0-1.1-.9-2-2-2zM9 17H7v-7h2v7zm4 0h-2V7h2v10zm4 0h-2v-4h2v4z\"/>\n",
       "    </g>\n",
       "</svg>\n",
       "  </button>\n",
       "\n",
       "<style>\n",
       "  .colab-df-quickchart {\n",
       "      --bg-color: #E8F0FE;\n",
       "      --fill-color: #1967D2;\n",
       "      --hover-bg-color: #E2EBFA;\n",
       "      --hover-fill-color: #174EA6;\n",
       "      --disabled-fill-color: #AAA;\n",
       "      --disabled-bg-color: #DDD;\n",
       "  }\n",
       "\n",
       "  [theme=dark] .colab-df-quickchart {\n",
       "      --bg-color: #3B4455;\n",
       "      --fill-color: #D2E3FC;\n",
       "      --hover-bg-color: #434B5C;\n",
       "      --hover-fill-color: #FFFFFF;\n",
       "      --disabled-bg-color: #3B4455;\n",
       "      --disabled-fill-color: #666;\n",
       "  }\n",
       "\n",
       "  .colab-df-quickchart {\n",
       "    background-color: var(--bg-color);\n",
       "    border: none;\n",
       "    border-radius: 50%;\n",
       "    cursor: pointer;\n",
       "    display: none;\n",
       "    fill: var(--fill-color);\n",
       "    height: 32px;\n",
       "    padding: 0;\n",
       "    width: 32px;\n",
       "  }\n",
       "\n",
       "  .colab-df-quickchart:hover {\n",
       "    background-color: var(--hover-bg-color);\n",
       "    box-shadow: 0 1px 2px rgba(60, 64, 67, 0.3), 0 1px 3px 1px rgba(60, 64, 67, 0.15);\n",
       "    fill: var(--button-hover-fill-color);\n",
       "  }\n",
       "\n",
       "  .colab-df-quickchart-complete:disabled,\n",
       "  .colab-df-quickchart-complete:disabled:hover {\n",
       "    background-color: var(--disabled-bg-color);\n",
       "    fill: var(--disabled-fill-color);\n",
       "    box-shadow: none;\n",
       "  }\n",
       "\n",
       "  .colab-df-spinner {\n",
       "    border: 2px solid var(--fill-color);\n",
       "    border-color: transparent;\n",
       "    border-bottom-color: var(--fill-color);\n",
       "    animation:\n",
       "      spin 1s steps(1) infinite;\n",
       "  }\n",
       "\n",
       "  @keyframes spin {\n",
       "    0% {\n",
       "      border-color: transparent;\n",
       "      border-bottom-color: var(--fill-color);\n",
       "      border-left-color: var(--fill-color);\n",
       "    }\n",
       "    20% {\n",
       "      border-color: transparent;\n",
       "      border-left-color: var(--fill-color);\n",
       "      border-top-color: var(--fill-color);\n",
       "    }\n",
       "    30% {\n",
       "      border-color: transparent;\n",
       "      border-left-color: var(--fill-color);\n",
       "      border-top-color: var(--fill-color);\n",
       "      border-right-color: var(--fill-color);\n",
       "    }\n",
       "    40% {\n",
       "      border-color: transparent;\n",
       "      border-right-color: var(--fill-color);\n",
       "      border-top-color: var(--fill-color);\n",
       "    }\n",
       "    60% {\n",
       "      border-color: transparent;\n",
       "      border-right-color: var(--fill-color);\n",
       "    }\n",
       "    80% {\n",
       "      border-color: transparent;\n",
       "      border-right-color: var(--fill-color);\n",
       "      border-bottom-color: var(--fill-color);\n",
       "    }\n",
       "    90% {\n",
       "      border-color: transparent;\n",
       "      border-bottom-color: var(--fill-color);\n",
       "    }\n",
       "  }\n",
       "</style>\n",
       "\n",
       "  <script>\n",
       "    async function quickchart(key) {\n",
       "      const quickchartButtonEl =\n",
       "        document.querySelector('#' + key + ' button');\n",
       "      quickchartButtonEl.disabled = true;  // To prevent multiple clicks.\n",
       "      quickchartButtonEl.classList.add('colab-df-spinner');\n",
       "      try {\n",
       "        const charts = await google.colab.kernel.invokeFunction(\n",
       "            'suggestCharts', [key], {});\n",
       "      } catch (error) {\n",
       "        console.error('Error during call to suggestCharts:', error);\n",
       "      }\n",
       "      quickchartButtonEl.classList.remove('colab-df-spinner');\n",
       "      quickchartButtonEl.classList.add('colab-df-quickchart-complete');\n",
       "    }\n",
       "    (() => {\n",
       "      let quickchartButtonEl =\n",
       "        document.querySelector('#df-b6e68158-f6b7-4a2a-b712-8d39fbf58bf1 button');\n",
       "      quickchartButtonEl.style.display =\n",
       "        google.colab.kernel.accessAllowed ? 'block' : 'none';\n",
       "    })();\n",
       "  </script>\n",
       "</div>\n",
       "    </div>\n",
       "  </div>\n"
      ],
      "application/vnd.google.colaboratory.intrinsic+json": {
       "type": "dataframe",
       "summary": "{\n  \"name\": \"df[:5]\",\n  \"rows\": 5,\n  \"fields\": [\n    {\n      \"column\": \"character_folder\",\n      \"properties\": {\n        \"dtype\": \"category\",\n        \"num_unique_values\": 1,\n        \"samples\": [\n          \"cletus_spuckler\"\n        ],\n        \"semantic_type\": \"\",\n        \"description\": \"\"\n      }\n    },\n    {\n      \"column\": \"filename\",\n      \"properties\": {\n        \"dtype\": \"string\",\n        \"num_unique_values\": 5,\n        \"samples\": [\n          \"/root/.cache/kagglehub/datasets/alexattia/the-simpsons-characters-dataset/versions/4/simpsons_dataset/cletus_spuckler/pic_0023.jpg\"\n        ],\n        \"semantic_type\": \"\",\n        \"description\": \"\"\n      }\n    }\n  ]\n}"
      }
     },
     "metadata": {},
     "execution_count": 6
    }
   ],
   "source": [
    "df[:5]"
   ]
  },
  {
   "cell_type": "code",
   "execution_count": 7,
   "id": "IgnaTYJsje-0",
   "metadata": {
    "ExecuteTime": {
     "end_time": "2025-03-13T06:10:02.000501Z",
     "start_time": "2025-03-13T06:10:01.996480Z"
    },
    "colab": {
     "base_uri": "https://localhost:8080/"
    },
    "id": "IgnaTYJsje-0",
    "outputId": "c05d7ac3-777b-4066-bdd2-d468762f0acf"
   },
   "outputs": [
    {
     "output_type": "stream",
     "name": "stdout",
     "text": [
      "homer_simpson: 1.00 (Number of images: 2246)\n",
      "ned_flanders: 1.54 (Number of images: 1454)\n",
      "moe_szyslak: 1.55 (Number of images: 1452)\n",
      "lisa_simpson: 1.66 (Number of images: 1354)\n",
      "bart_simpson: 1.67 (Number of images: 1342)\n",
      "marge_simpson: 1.74 (Number of images: 1291)\n",
      "krusty_the_clown: 1.86 (Number of images: 1206)\n",
      "principal_skinner: 1.88 (Number of images: 1194)\n",
      "charles_montgomery_burns: 1.88 (Number of images: 1193)\n",
      "milhouse_van_houten: 2.08 (Number of images: 1079)\n",
      "chief_wiggum: 2.28 (Number of images: 986)\n",
      "abraham_grampa_simpson: 2.46 (Number of images: 913)\n",
      "sideshow_bob: 2.56 (Number of images: 877)\n"
     ]
    }
   ],
   "source": [
    "class_weights = {}\n",
    "max_samples = max(character_counts[class_name] for class_name in allowed_classes)\n",
    "\n",
    "for idx, class_name in enumerate(allowed_classes):\n",
    "    weight = max_samples / character_counts[class_name]\n",
    "    class_weights[idx] = weight\n",
    "\n",
    "for idx, class_name in enumerate(allowed_classes):\n",
    "    print(f\"{class_name}: {class_weights[idx]:.2f} (Number of images: {character_counts[class_name]})\")"
   ]
  },
  {
   "cell_type": "code",
   "id": "6da8ab256b14a165",
   "metadata": {
    "colab": {
     "base_uri": "https://localhost:8080/"
    },
    "id": "6da8ab256b14a165",
    "outputId": "95bfc095-7578-4fbe-ff56-ce47fb16330b",
    "ExecuteTime": {
     "end_time": "2025-04-09T14:02:26.781724Z",
     "start_time": "2025-04-09T14:02:26.776035Z"
    }
   },
   "source": [
    "output_dir = \"./dataset_filtered\"\n",
    "\n",
    "os.makedirs(output_dir, exist_ok=True)\n",
    "train_dir = os.path.join(output_dir, 'train')\n",
    "val_dir = os.path.join(output_dir, 'val')\n",
    "test_dir = os.path.join(output_dir, 'test')\n",
    "os.makedirs(train_dir, exist_ok=True)\n",
    "os.makedirs(val_dir, exist_ok=True)\n",
    "os.makedirs(test_dir, exist_ok=True)\n",
    "\n",
    "for class_name in allowed_classes:\n",
    "    class_path = os.path.join(input_dir, class_name)\n",
    "    all_images = sorted(os.listdir(class_path))\n",
    "    train_files, temp_files = train_test_split(all_images, train_size=TRAIN_SIZE, random_state=42)\n",
    "    val_files, test_files = train_test_split(temp_files, test_size=TEST_SIZE / (1 - TRAIN_SIZE), random_state=42)\n",
    "\n",
    "    for subset, subset_files in zip(['train', 'val', 'test'], [train_files, val_files, test_files]):\n",
    "        subset_class_dir = os.path.join(output_dir, subset, class_name)\n",
    "        os.makedirs(subset_class_dir, exist_ok=True)\n",
    "\n",
    "        for file_name in subset_files:\n",
    "            src_file = os.path.join(class_path, file_name)\n",
    "            dst_file = os.path.join(subset_class_dir, file_name)\n",
    "            shutil.copy(src_file, dst_file)\n",
    "\n",
    "    print(f\"Processing completed for '{class_name}'.\")"
   ],
   "outputs": [],
   "execution_count": 22
  },
  {
   "cell_type": "code",
   "id": "75b755d086495cf5",
   "metadata": {
    "id": "75b755d086495cf5",
    "ExecuteTime": {
     "end_time": "2025-04-09T14:02:38.211675Z",
     "start_time": "2025-04-09T14:02:38.096983Z"
    }
   },
   "source": [
    "import torch\n",
    "from torch.utils.data import DataLoader\n",
    "from torchvision import datasets, transforms\n",
    "\n",
    "\n",
    "train_transforms = transforms.Compose([\n",
    "    transforms.Resize(IMAGE_SIZE),\n",
    "    transforms.RandomHorizontalFlip(),\n",
    "    transforms.RandomRotation(15),\n",
    "    transforms.ColorJitter(brightness=0.2, contrast=0.2, saturation=0.2, hue=0.1),\n",
    "    transforms.ToTensor(),\n",
    "    transforms.Normalize(mean=[0.5, 0.5, 0.5], std=[0.5, 0.5, 0.5])\n",
    "])\n",
    "\n",
    "transform = transforms.Compose([\n",
    "    transforms.Resize(IMAGE_SIZE),\n",
    "    transforms.ToTensor(),\n",
    "    transforms.Normalize(mean=[0.5, 0.5, 0.5], std=[0.5, 0.5, 0.5])\n",
    "])\n",
    "\n",
    "train_dataset = datasets.ImageFolder(root=train_dir, transform=train_transforms)\n",
    "validation_dataset = datasets.ImageFolder(root=val_dir, transform=transform)\n",
    "test_dataset = datasets.ImageFolder(root=test_dir, transform=transform)\n",
    "\n",
    "train_loader = DataLoader(train_dataset, batch_size=BATCH_SIZE, shuffle=True)\n",
    "validation_loader = DataLoader(validation_dataset, batch_size=BATCH_SIZE, shuffle=False)\n",
    "test_loader = DataLoader(test_dataset, batch_size=BATCH_SIZE, shuffle=False)\n"
   ],
   "outputs": [],
   "execution_count": 23
  },
  {
   "cell_type": "code",
   "id": "282c710f6c3d4975",
   "metadata": {
    "id": "282c710f6c3d4975",
    "ExecuteTime": {
     "end_time": "2025-04-09T14:32:41.594528Z",
     "start_time": "2025-04-09T14:32:41.584421Z"
    }
   },
   "source": [
    "from collections import Counter\n",
    "import numpy as np\n",
    "\n",
    "# train_dataset.targets — это список меток классов для всех изображений\n",
    "class_counts = Counter(train_dataset.targets)\n",
    "\n",
    "# Отобразим названия классов\n",
    "for idx, class_name in enumerate(train_dataset.classes):\n",
    "    print(f\"{class_name}: {class_counts[idx]}\")\n"
   ],
   "outputs": [
    {
     "name": "stdout",
     "output_type": "stream",
     "text": [
      "abraham_grampa_simpson: 639\n",
      "bart_simpson: 939\n",
      "charles_montgomery_burns: 835\n",
      "chief_wiggum: 690\n",
      "homer_simpson: 1572\n",
      "krusty_the_clown: 844\n",
      "lisa_simpson: 947\n",
      "marge_simpson: 903\n",
      "milhouse_van_houten: 755\n",
      "moe_szyslak: 1016\n",
      "ned_flanders: 1017\n",
      "principal_skinner: 835\n",
      "sideshow_bob: 613\n"
     ]
    }
   ],
   "execution_count": 34
  },
  {
   "metadata": {
    "ExecuteTime": {
     "end_time": "2025-04-09T14:32:59.854734Z",
     "start_time": "2025-04-09T14:32:59.850624Z"
    }
   },
   "cell_type": "code",
   "source": [
    "from collections import Counter\n",
    "import numpy as np\n",
    "\n",
    "# train_dataset.targets — это список меток классов для всех изображений\n",
    "class_counts = Counter(validation_dataset.targets)\n",
    "\n",
    "# Отобразим названия классов\n",
    "for idx, class_name in enumerate(train_dataset.classes):\n",
    "    print(f\"{class_name}: {class_counts[idx]}\")\n"
   ],
   "id": "4be21d5e80c968e7",
   "outputs": [
    {
     "name": "stdout",
     "output_type": "stream",
     "text": [
      "abraham_grampa_simpson: 137\n",
      "bart_simpson: 201\n",
      "charles_montgomery_burns: 179\n",
      "chief_wiggum: 148\n",
      "homer_simpson: 337\n",
      "krusty_the_clown: 181\n",
      "lisa_simpson: 203\n",
      "marge_simpson: 194\n",
      "milhouse_van_houten: 162\n",
      "moe_szyslak: 218\n",
      "ned_flanders: 218\n",
      "principal_skinner: 179\n",
      "sideshow_bob: 132\n"
     ]
    }
   ],
   "execution_count": 35
  },
  {
   "cell_type": "code",
   "id": "ae29a7fcfa59d1cd",
   "metadata": {
    "id": "ae29a7fcfa59d1cd",
    "ExecuteTime": {
     "end_time": "2025-04-09T14:01:28.545227Z",
     "start_time": "2025-04-09T14:01:28.531513Z"
    }
   },
   "source": [
    "class SimpsonClassifierCNNNet(nn.Module):\n",
    "    def __init__(self):\n",
    "        super().__init__()\n",
    "\n",
    "        # --- Conv\n",
    "        self.conv1 = nn.Conv2d(in_channels=3, out_channels=32, kernel_size=3, padding=1)\n",
    "        self.conv2 = nn.Conv2d(32, 64, kernel_size=3, padding=1)\n",
    "        self.conv3 = nn.Conv2d(64, 128, kernel_size=3, padding=1)\n",
    "        self.conv4 = nn.Conv2d(128, 256, kernel_size=3, padding=1)\n",
    "        self.conv5 = nn.Conv2d(256, 512, kernel_size=3, padding=1)\n",
    "        self.conv6 = nn.Conv2d(512, 1024, kernel_size=3, padding=1)\n",
    "\n",
    "        # --- Batchnorm\n",
    "        self.bn1 = nn.BatchNorm2d(32)\n",
    "        self.bn2 = nn.BatchNorm2d(64)\n",
    "        self.bn3 = nn.BatchNorm2d(128)\n",
    "        self.bn4 = nn.BatchNorm2d(256)\n",
    "        self.bn5 = nn.BatchNorm2d(512)\n",
    "        self.bn6 = nn.BatchNorm2d(1024)\n",
    "        self.bnfc = nn.BatchNorm1d(576)\n",
    "\n",
    "        # --- Activation\n",
    "        self.relu = nn.ReLU()\n",
    "\n",
    "        # --- Xaxpool\n",
    "        self.pool = nn.MaxPool2d(kernel_size=2, stride=2)\n",
    "        self.global_pool = nn.AdaptiveAvgPool2d((1, 1))\n",
    "\n",
    "        # --- FC\n",
    "        self.fc1 = nn.Linear(1024, 576)\n",
    "        self.fc2 = nn.Linear(576, len(allowed_classes))\n",
    "\n",
    "        # --- Dropout\n",
    "        self.dropout = nn.Dropout(0.2)\n",
    "        self.dropoutfc = nn.Dropout(0.5)\n",
    "\n",
    "\n",
    "    def forward(self, x):\n",
    "        # --- conv1\n",
    "        x = self.conv1(x)\n",
    "        x = self.bn1(x)\n",
    "        x = self.relu(x)\n",
    "        x = self.pool(x)\n",
    "        x = self.dropout(x)\n",
    "\n",
    "        # --- conv2\n",
    "        x = self.conv2(x)\n",
    "        x = self.bn2(x)\n",
    "        x = self.relu(x)\n",
    "        x = self.pool(x)\n",
    "        x = self.dropout(x)\n",
    "\n",
    "        # --- conv3\n",
    "        x = self.conv3(x)\n",
    "        x = self.bn3(x)\n",
    "        x = self.relu(x)\n",
    "        x = self.pool(x)\n",
    "        x = self.dropout(x)\n",
    "\n",
    "        # --- conv4\n",
    "        x = self.conv4(x)\n",
    "        x = self.bn4(x)\n",
    "        x = self.relu(x)\n",
    "        x = self.pool(x)\n",
    "        x = self.dropout(x)\n",
    "\n",
    "        # --- conv5\n",
    "        x = self.conv5(x)\n",
    "        x = self.bn5(x)\n",
    "        x = self.relu(x)\n",
    "        x = self.pool(x)\n",
    "        x = self.dropout(x)\n",
    "\n",
    "        # --- conv6\n",
    "        x = self.conv6(x)\n",
    "        x = self.bn6(x)\n",
    "        x = self.relu(x)\n",
    "        x = self.pool(x)\n",
    "        x = self.dropout(x)\n",
    "\n",
    "        # --- flatten\n",
    "        x = self.global_pool(x)\n",
    "        x = x.view(x.size(0), -1)\n",
    "\n",
    "        # --- classification\n",
    "        x = self.fc1(x)\n",
    "        x = self.relu(x)\n",
    "        x = self.bnfc(x)\n",
    "        x = self.dropoutfc(x)\n",
    "\n",
    "        x = self.fc2(x)\n",
    "\n",
    "        return x\n"
   ],
   "outputs": [],
   "execution_count": 14
  },
  {
   "cell_type": "code",
   "id": "ae931f20c64f2bfa",
   "metadata": {
    "colab": {
     "base_uri": "https://localhost:8080/"
    },
    "id": "ae931f20c64f2bfa",
    "outputId": "fa3fa2b6-256f-49ee-8e5b-68109555ea8c",
    "ExecuteTime": {
     "end_time": "2025-04-09T14:01:29.438378Z",
     "start_time": "2025-04-09T14:01:29.240414Z"
    }
   },
   "source": [
    "model = SimpsonClassifierCNNNet()\n",
    "model.to(device)"
   ],
   "outputs": [
    {
     "data": {
      "text/plain": [
       "SimpsonClassifierCNNNet(\n",
       "  (conv1): Conv2d(3, 32, kernel_size=(3, 3), stride=(1, 1), padding=(1, 1))\n",
       "  (conv2): Conv2d(32, 64, kernel_size=(3, 3), stride=(1, 1), padding=(1, 1))\n",
       "  (conv3): Conv2d(64, 128, kernel_size=(3, 3), stride=(1, 1), padding=(1, 1))\n",
       "  (conv4): Conv2d(128, 256, kernel_size=(3, 3), stride=(1, 1), padding=(1, 1))\n",
       "  (conv5): Conv2d(256, 512, kernel_size=(3, 3), stride=(1, 1), padding=(1, 1))\n",
       "  (conv6): Conv2d(512, 1024, kernel_size=(3, 3), stride=(1, 1), padding=(1, 1))\n",
       "  (bn1): BatchNorm2d(32, eps=1e-05, momentum=0.1, affine=True, track_running_stats=True)\n",
       "  (bn2): BatchNorm2d(64, eps=1e-05, momentum=0.1, affine=True, track_running_stats=True)\n",
       "  (bn3): BatchNorm2d(128, eps=1e-05, momentum=0.1, affine=True, track_running_stats=True)\n",
       "  (bn4): BatchNorm2d(256, eps=1e-05, momentum=0.1, affine=True, track_running_stats=True)\n",
       "  (bn5): BatchNorm2d(512, eps=1e-05, momentum=0.1, affine=True, track_running_stats=True)\n",
       "  (bn6): BatchNorm2d(1024, eps=1e-05, momentum=0.1, affine=True, track_running_stats=True)\n",
       "  (bnfc): BatchNorm1d(576, eps=1e-05, momentum=0.1, affine=True, track_running_stats=True)\n",
       "  (relu): ReLU()\n",
       "  (pool): MaxPool2d(kernel_size=2, stride=2, padding=0, dilation=1, ceil_mode=False)\n",
       "  (global_pool): AdaptiveAvgPool2d(output_size=(1, 1))\n",
       "  (fc1): Linear(in_features=1024, out_features=576, bias=True)\n",
       "  (fc2): Linear(in_features=576, out_features=13, bias=True)\n",
       "  (dropout): Dropout(p=0.2, inplace=False)\n",
       "  (dropoutfc): Dropout(p=0.5, inplace=False)\n",
       ")"
      ]
     },
     "execution_count": 15,
     "metadata": {},
     "output_type": "execute_result"
    }
   ],
   "execution_count": 15
  },
  {
   "cell_type": "code",
   "execution_count": 12,
   "id": "q2BDLkAPL-io",
   "metadata": {
    "ExecuteTime": {
     "end_time": "2025-03-13T06:11:25.911979Z",
     "start_time": "2025-03-13T06:11:25.908764Z"
    },
    "id": "q2BDLkAPL-io"
   },
   "outputs": [],
   "source": [
    "optimizer = torch.optim.Adam(model.parameters(), lr=0.001)"
   ]
  },
  {
   "cell_type": "code",
   "execution_count": 13,
   "id": "73a0119d6fa9df54",
   "metadata": {
    "ExecuteTime": {
     "end_time": "2025-03-13T06:11:26.502304Z",
     "start_time": "2025-03-13T06:11:26.499110Z"
    },
    "id": "73a0119d6fa9df54"
   },
   "outputs": [],
   "source": [
    "weights_tensor = torch.tensor([class_weights[idx] for idx in range(len(allowed_classes))], dtype=torch.float32).to(device)\n",
    "\n",
    "criterion = nn.CrossEntropyLoss(weight=weights_tensor)"
   ]
  },
  {
   "cell_type": "code",
   "execution_count": 14,
   "id": "_Ql4gLZoL-Z7",
   "metadata": {
    "id": "_Ql4gLZoL-Z7",
    "colab": {
     "base_uri": "https://localhost:8080/"
    },
    "outputId": "f27a0b10-ccf5-496d-bf65-1d17ac27130e"
   },
   "outputs": [
    {
     "output_type": "stream",
     "name": "stderr",
     "text": [
      "/usr/local/lib/python3.11/dist-packages/torch/optim/lr_scheduler.py:62: UserWarning: The verbose parameter is deprecated. Please use get_last_lr() to access the learning rate.\n",
      "  warnings.warn(\n"
     ]
    }
   ],
   "source": [
    "scheduler = torch.optim.lr_scheduler.ReduceLROnPlateau(optimizer, mode='max', factor=0.5, patience=2, verbose=True)"
   ]
  },
  {
   "cell_type": "code",
   "execution_count": 15,
   "id": "xzks6X8IRRKZ",
   "metadata": {
    "id": "xzks6X8IRRKZ"
   },
   "outputs": [],
   "source": [
    "metrics_df = pandas.DataFrame(columns=[\"Epoch\", \"Train Loss\", \"Train Accuracy\", \"Val Loss\", \"Val Accuracy\"])"
   ]
  },
  {
   "cell_type": "code",
   "execution_count": 17,
   "id": "fb6f8b9f434923fd",
   "metadata": {
    "ExecuteTime": {
     "end_time": "2025-03-11T06:52:29.167636Z",
     "start_time": "2025-03-11T06:50:01.550176Z"
    },
    "colab": {
     "base_uri": "https://localhost:8080/",
     "height": 1000
    },
    "id": "fb6f8b9f434923fd",
    "outputId": "ee189fc6-1656-4482-d367-2694f9760d87"
   },
   "outputs": [
    {
     "metadata": {
      "tags": null
     },
     "name": "stderr",
     "output_type": "stream",
     "text": [
      "Эпоха 1/50, Train Loss: 1.3524, Train Acc: 0.5479: 100%|██████████| 91/91 [02:25<00:00,  1.59s/it]\n",
      "<ipython-input-17-387af858b3e9>:78: FutureWarning: The behavior of DataFrame concatenation with empty or all-NA entries is deprecated. In a future version, this will no longer exclude empty or all-NA columns when determining the result dtypes. To retain the old behavior, exclude the relevant entries before the concat operation.\n",
      "  metrics_df = pd.concat([metrics_df, new_row], ignore_index=True)\n"
     ]
    },
    {
     "metadata": {
      "tags": null
     },
     "name": "stdout",
     "output_type": "stream",
     "text": [
      "Эпоха 1: Val Loss = 1.1160, Val Acc = 0.6360, F1 = 0.6033\n"
     ]
    },
    {
     "metadata": {
      "tags": null
     },
     "name": "stderr",
     "output_type": "stream",
     "text": [
      "Эпоха 2/50, Train Loss: 0.9229, Train Acc: 0.6806: 100%|██████████| 91/91 [02:21<00:00,  1.56s/it]\n"
     ]
    },
    {
     "metadata": {
      "tags": null
     },
     "name": "stdout",
     "output_type": "stream",
     "text": [
      "Эпоха 2: Val Loss = 0.9167, Val Acc = 0.6971, F1 = 0.6889\n"
     ]
    },
    {
     "metadata": {
      "tags": null
     },
     "name": "stderr",
     "output_type": "stream",
     "text": [
      "Эпоха 3/50, Train Loss: 0.7062, Train Acc: 0.7613: 100%|██████████| 91/91 [02:20<00:00,  1.55s/it]\n"
     ]
    },
    {
     "metadata": {
      "tags": null
     },
     "name": "stdout",
     "output_type": "stream",
     "text": [
      "Эпоха 3: Val Loss = 0.6329, Val Acc = 0.8067, F1 = 0.7989\n"
     ]
    },
    {
     "metadata": {
      "tags": null
     },
     "name": "stderr",
     "output_type": "stream",
     "text": [
      "Эпоха 4/50, Train Loss: 0.5798, Train Acc: 0.8083: 100%|██████████| 91/91 [02:20<00:00,  1.54s/it]\n"
     ]
    },
    {
     "metadata": {
      "tags": null
     },
     "name": "stdout",
     "output_type": "stream",
     "text": [
      "Эпоха 4: Val Loss = 0.5395, Val Acc = 0.8337, F1 = 0.8281\n"
     ]
    },
    {
     "metadata": {
      "tags": null
     },
     "name": "stderr",
     "output_type": "stream",
     "text": [
      "Эпоха 5/50, Train Loss: 0.5075, Train Acc: 0.8335: 100%|██████████| 91/91 [02:19<00:00,  1.54s/it]\n"
     ]
    },
    {
     "metadata": {
      "tags": null
     },
     "name": "stdout",
     "output_type": "stream",
     "text": [
      "Эпоха 5: Val Loss = 0.5241, Val Acc = 0.8313, F1 = 0.8288\n"
     ]
    },
    {
     "metadata": {
      "tags": null
     },
     "name": "stderr",
     "output_type": "stream",
     "text": [
      "Эпоха 6/50, Train Loss: 0.4344, Train Acc: 0.8572: 100%|██████████| 91/91 [02:20<00:00,  1.54s/it]\n"
     ]
    },
    {
     "metadata": {
      "tags": null
     },
     "name": "stdout",
     "output_type": "stream",
     "text": [
      "Эпоха 6: Val Loss = 0.5419, Val Acc = 0.8429, F1 = 0.8448\n"
     ]
    },
    {
     "metadata": {
      "tags": null
     },
     "name": "stderr",
     "output_type": "stream",
     "text": [
      "Эпоха 7/50, Train Loss: 0.3928, Train Acc: 0.8725: 100%|██████████| 91/91 [02:21<00:00,  1.55s/it]\n"
     ]
    },
    {
     "metadata": {
      "tags": null
     },
     "name": "stdout",
     "output_type": "stream",
     "text": [
      "Эпоха 7: Val Loss = 0.5925, Val Acc = 0.8144, F1 = 0.8132\n"
     ]
    },
    {
     "metadata": {
      "tags": null
     },
     "name": "stderr",
     "output_type": "stream",
     "text": [
      "Эпоха 8/50, Train Loss: 0.3207, Train Acc: 0.8937: 100%|██████████| 91/91 [02:20<00:00,  1.54s/it]\n"
     ]
    },
    {
     "metadata": {
      "tags": null
     },
     "name": "stdout",
     "output_type": "stream",
     "text": [
      "Эпоха 8: Val Loss = 0.3656, Val Acc = 0.8871, F1 = 0.8865\n"
     ]
    },
    {
     "metadata": {
      "tags": null
     },
     "name": "stderr",
     "output_type": "stream",
     "text": [
      "Эпоха 9/50, Train Loss: 0.3083, Train Acc: 0.9004: 100%|██████████| 91/91 [02:20<00:00,  1.54s/it]\n"
     ]
    },
    {
     "metadata": {
      "tags": null
     },
     "name": "stdout",
     "output_type": "stream",
     "text": [
      "Эпоха 9: Val Loss = 0.3358, Val Acc = 0.9032, F1 = 0.9040\n"
     ]
    },
    {
     "output_type": "stream",
     "name": "stderr",
     "text": [
      "Эпоха 10/50, Train Loss: 0.2785, Train Acc: 0.9075: 100%|██████████| 91/91 [02:20<00:00,  1.54s/it]\n"
     ]
    },
    {
     "output_type": "stream",
     "name": "stdout",
     "text": [
      "Эпоха 10: Val Loss = 0.3225, Val Acc = 0.9036, F1 = 0.9022\n"
     ]
    },
    {
     "output_type": "stream",
     "name": "stderr",
     "text": [
      "Эпоха 11/50, Train Loss: 0.2459, Train Acc: 0.9185: 100%|██████████| 91/91 [02:19<00:00,  1.54s/it]\n"
     ]
    },
    {
     "output_type": "stream",
     "name": "stdout",
     "text": [
      "Эпоха 11: Val Loss = 0.2621, Val Acc = 0.9257, F1 = 0.9261\n"
     ]
    },
    {
     "output_type": "stream",
     "name": "stderr",
     "text": [
      "Эпоха 12/50, Train Loss: 0.2322, Train Acc: 0.9224: 100%|██████████| 91/91 [02:20<00:00,  1.54s/it]\n"
     ]
    },
    {
     "output_type": "stream",
     "name": "stdout",
     "text": [
      "Эпоха 12: Val Loss = 0.4125, Val Acc = 0.8827, F1 = 0.8830\n"
     ]
    },
    {
     "output_type": "stream",
     "name": "stderr",
     "text": [
      "Эпоха 13/50, Train Loss: 0.2144, Train Acc: 0.9290: 100%|██████████| 91/91 [02:19<00:00,  1.54s/it]\n"
     ]
    },
    {
     "output_type": "stream",
     "name": "stdout",
     "text": [
      "Эпоха 13: Val Loss = 0.2331, Val Acc = 0.9385, F1 = 0.9382\n"
     ]
    },
    {
     "output_type": "stream",
     "name": "stderr",
     "text": [
      "Эпоха 14/50, Train Loss: 0.1926, Train Acc: 0.9368: 100%|██████████| 91/91 [02:19<00:00,  1.53s/it]\n"
     ]
    },
    {
     "output_type": "stream",
     "name": "stdout",
     "text": [
      "Эпоха 14: Val Loss = 0.2634, Val Acc = 0.9317, F1 = 0.9312\n"
     ]
    },
    {
     "output_type": "stream",
     "name": "stderr",
     "text": [
      "Эпоха 15/50, Train Loss: 0.1843, Train Acc: 0.9400: 100%|██████████| 91/91 [02:19<00:00,  1.53s/it]\n"
     ]
    },
    {
     "output_type": "stream",
     "name": "stdout",
     "text": [
      "Эпоха 15: Val Loss = 0.2899, Val Acc = 0.9104, F1 = 0.9102\n"
     ]
    },
    {
     "output_type": "stream",
     "name": "stderr",
     "text": [
      "Эпоха 16/50, Train Loss: 0.1639, Train Acc: 0.9457: 100%|██████████| 91/91 [02:19<00:00,  1.53s/it]\n"
     ]
    },
    {
     "output_type": "stream",
     "name": "stdout",
     "text": [
      "Эпоха 16: Val Loss = 0.2279, Val Acc = 0.9333, F1 = 0.9355\n"
     ]
    },
    {
     "output_type": "stream",
     "name": "stderr",
     "text": [
      "Эпоха 17/50, Train Loss: 0.1113, Train Acc: 0.9650: 100%|██████████| 91/91 [02:19<00:00,  1.53s/it]\n"
     ]
    },
    {
     "output_type": "stream",
     "name": "stdout",
     "text": [
      "Эпоха 17: Val Loss = 0.1581, Val Acc = 0.9562, F1 = 0.9563\n"
     ]
    },
    {
     "output_type": "stream",
     "name": "stderr",
     "text": [
      "Эпоха 18/50, Train Loss: 0.0888, Train Acc: 0.9735: 100%|██████████| 91/91 [02:19<00:00,  1.53s/it]\n"
     ]
    },
    {
     "output_type": "stream",
     "name": "stdout",
     "text": [
      "Эпоха 18: Val Loss = 0.1600, Val Acc = 0.9590, F1 = 0.9591\n"
     ]
    },
    {
     "output_type": "stream",
     "name": "stderr",
     "text": [
      "Эпоха 19/50, Train Loss: 0.0919, Train Acc: 0.9713: 100%|██████████| 91/91 [02:18<00:00,  1.53s/it]\n"
     ]
    },
    {
     "output_type": "stream",
     "name": "stdout",
     "text": [
      "Эпоха 19: Val Loss = 0.1765, Val Acc = 0.9502, F1 = 0.9506\n"
     ]
    },
    {
     "output_type": "stream",
     "name": "stderr",
     "text": [
      "Эпоха 20/50, Train Loss: 0.0810, Train Acc: 0.9742: 100%|██████████| 91/91 [02:19<00:00,  1.54s/it]\n"
     ]
    },
    {
     "output_type": "stream",
     "name": "stdout",
     "text": [
      "Эпоха 20: Val Loss = 0.1445, Val Acc = 0.9614, F1 = 0.9615\n"
     ]
    },
    {
     "output_type": "stream",
     "name": "stderr",
     "text": [
      "Эпоха 21/50, Train Loss: 0.0769, Train Acc: 0.9735: 100%|██████████| 91/91 [02:18<00:00,  1.52s/it]\n"
     ]
    },
    {
     "output_type": "stream",
     "name": "stdout",
     "text": [
      "Эпоха 21: Val Loss = 0.1881, Val Acc = 0.9522, F1 = 0.9520\n"
     ]
    },
    {
     "output_type": "stream",
     "name": "stderr",
     "text": [
      "Эпоха 22/50, Train Loss: 0.0835, Train Acc: 0.9728:  91%|█████████ | 83/91 [02:08<00:12,  1.55s/it]\n"
     ]
    },
    {
     "output_type": "error",
     "ename": "KeyboardInterrupt",
     "evalue": "",
     "traceback": [
      "\u001B[0;31m---------------------------------------------------------------------------\u001B[0m",
      "\u001B[0;31mKeyboardInterrupt\u001B[0m                         Traceback (most recent call last)",
      "\u001B[0;32m<ipython-input-17-387af858b3e9>\u001B[0m in \u001B[0;36m<cell line: 0>\u001B[0;34m()\u001B[0m\n\u001B[1;32m     17\u001B[0m     \u001B[0mloop\u001B[0m \u001B[0;34m=\u001B[0m \u001B[0mtqdm\u001B[0m\u001B[0;34m(\u001B[0m\u001B[0mtrain_loader\u001B[0m\u001B[0;34m,\u001B[0m \u001B[0mdesc\u001B[0m\u001B[0;34m=\u001B[0m\u001B[0;34mf\"Эпоха {epoch+1}/{EPOCHS}\"\u001B[0m\u001B[0;34m)\u001B[0m\u001B[0;34m\u001B[0m\u001B[0;34m\u001B[0m\u001B[0m\n\u001B[1;32m     18\u001B[0m \u001B[0;34m\u001B[0m\u001B[0m\n\u001B[0;32m---> 19\u001B[0;31m     \u001B[0;32mfor\u001B[0m \u001B[0mimages\u001B[0m\u001B[0;34m,\u001B[0m \u001B[0mlabels\u001B[0m \u001B[0;32min\u001B[0m \u001B[0mloop\u001B[0m\u001B[0;34m:\u001B[0m\u001B[0;34m\u001B[0m\u001B[0;34m\u001B[0m\u001B[0m\n\u001B[0m\u001B[1;32m     20\u001B[0m         \u001B[0mimages\u001B[0m\u001B[0;34m,\u001B[0m \u001B[0mlabels\u001B[0m \u001B[0;34m=\u001B[0m \u001B[0mimages\u001B[0m\u001B[0;34m.\u001B[0m\u001B[0mto\u001B[0m\u001B[0;34m(\u001B[0m\u001B[0mdevice\u001B[0m\u001B[0;34m)\u001B[0m\u001B[0;34m,\u001B[0m \u001B[0mlabels\u001B[0m\u001B[0;34m.\u001B[0m\u001B[0mto\u001B[0m\u001B[0;34m(\u001B[0m\u001B[0mdevice\u001B[0m\u001B[0;34m)\u001B[0m\u001B[0;34m\u001B[0m\u001B[0;34m\u001B[0m\u001B[0m\n\u001B[1;32m     21\u001B[0m         \u001B[0moptimizer\u001B[0m\u001B[0;34m.\u001B[0m\u001B[0mzero_grad\u001B[0m\u001B[0;34m(\u001B[0m\u001B[0;34m)\u001B[0m\u001B[0;34m\u001B[0m\u001B[0;34m\u001B[0m\u001B[0m\n",
      "\u001B[0;32m/usr/local/lib/python3.11/dist-packages/tqdm/std.py\u001B[0m in \u001B[0;36m__iter__\u001B[0;34m(self)\u001B[0m\n\u001B[1;32m   1179\u001B[0m \u001B[0;34m\u001B[0m\u001B[0m\n\u001B[1;32m   1180\u001B[0m         \u001B[0;32mtry\u001B[0m\u001B[0;34m:\u001B[0m\u001B[0;34m\u001B[0m\u001B[0;34m\u001B[0m\u001B[0m\n\u001B[0;32m-> 1181\u001B[0;31m             \u001B[0;32mfor\u001B[0m \u001B[0mobj\u001B[0m \u001B[0;32min\u001B[0m \u001B[0miterable\u001B[0m\u001B[0;34m:\u001B[0m\u001B[0;34m\u001B[0m\u001B[0;34m\u001B[0m\u001B[0m\n\u001B[0m\u001B[1;32m   1182\u001B[0m                 \u001B[0;32myield\u001B[0m \u001B[0mobj\u001B[0m\u001B[0;34m\u001B[0m\u001B[0;34m\u001B[0m\u001B[0m\n\u001B[1;32m   1183\u001B[0m                 \u001B[0;31m# Update and possibly print the progressbar.\u001B[0m\u001B[0;34m\u001B[0m\u001B[0;34m\u001B[0m\u001B[0m\n",
      "\u001B[0;32m/usr/local/lib/python3.11/dist-packages/torch/utils/data/dataloader.py\u001B[0m in \u001B[0;36m__next__\u001B[0;34m(self)\u001B[0m\n\u001B[1;32m    706\u001B[0m                 \u001B[0;31m# TODO(https://github.com/pytorch/pytorch/issues/76750)\u001B[0m\u001B[0;34m\u001B[0m\u001B[0;34m\u001B[0m\u001B[0m\n\u001B[1;32m    707\u001B[0m                 \u001B[0mself\u001B[0m\u001B[0;34m.\u001B[0m\u001B[0m_reset\u001B[0m\u001B[0;34m(\u001B[0m\u001B[0;34m)\u001B[0m  \u001B[0;31m# type: ignore[call-arg]\u001B[0m\u001B[0;34m\u001B[0m\u001B[0;34m\u001B[0m\u001B[0m\n\u001B[0;32m--> 708\u001B[0;31m             \u001B[0mdata\u001B[0m \u001B[0;34m=\u001B[0m \u001B[0mself\u001B[0m\u001B[0;34m.\u001B[0m\u001B[0m_next_data\u001B[0m\u001B[0;34m(\u001B[0m\u001B[0;34m)\u001B[0m\u001B[0;34m\u001B[0m\u001B[0;34m\u001B[0m\u001B[0m\n\u001B[0m\u001B[1;32m    709\u001B[0m             \u001B[0mself\u001B[0m\u001B[0;34m.\u001B[0m\u001B[0m_num_yielded\u001B[0m \u001B[0;34m+=\u001B[0m \u001B[0;36m1\u001B[0m\u001B[0;34m\u001B[0m\u001B[0;34m\u001B[0m\u001B[0m\n\u001B[1;32m    710\u001B[0m             if (\n",
      "\u001B[0;32m/usr/local/lib/python3.11/dist-packages/torch/utils/data/dataloader.py\u001B[0m in \u001B[0;36m_next_data\u001B[0;34m(self)\u001B[0m\n\u001B[1;32m    762\u001B[0m     \u001B[0;32mdef\u001B[0m \u001B[0m_next_data\u001B[0m\u001B[0;34m(\u001B[0m\u001B[0mself\u001B[0m\u001B[0;34m)\u001B[0m\u001B[0;34m:\u001B[0m\u001B[0;34m\u001B[0m\u001B[0;34m\u001B[0m\u001B[0m\n\u001B[1;32m    763\u001B[0m         \u001B[0mindex\u001B[0m \u001B[0;34m=\u001B[0m \u001B[0mself\u001B[0m\u001B[0;34m.\u001B[0m\u001B[0m_next_index\u001B[0m\u001B[0;34m(\u001B[0m\u001B[0;34m)\u001B[0m  \u001B[0;31m# may raise StopIteration\u001B[0m\u001B[0;34m\u001B[0m\u001B[0;34m\u001B[0m\u001B[0m\n\u001B[0;32m--> 764\u001B[0;31m         \u001B[0mdata\u001B[0m \u001B[0;34m=\u001B[0m \u001B[0mself\u001B[0m\u001B[0;34m.\u001B[0m\u001B[0m_dataset_fetcher\u001B[0m\u001B[0;34m.\u001B[0m\u001B[0mfetch\u001B[0m\u001B[0;34m(\u001B[0m\u001B[0mindex\u001B[0m\u001B[0;34m)\u001B[0m  \u001B[0;31m# may raise StopIteration\u001B[0m\u001B[0;34m\u001B[0m\u001B[0;34m\u001B[0m\u001B[0m\n\u001B[0m\u001B[1;32m    765\u001B[0m         \u001B[0;32mif\u001B[0m \u001B[0mself\u001B[0m\u001B[0;34m.\u001B[0m\u001B[0m_pin_memory\u001B[0m\u001B[0;34m:\u001B[0m\u001B[0;34m\u001B[0m\u001B[0;34m\u001B[0m\u001B[0m\n\u001B[1;32m    766\u001B[0m             \u001B[0mdata\u001B[0m \u001B[0;34m=\u001B[0m \u001B[0m_utils\u001B[0m\u001B[0;34m.\u001B[0m\u001B[0mpin_memory\u001B[0m\u001B[0;34m.\u001B[0m\u001B[0mpin_memory\u001B[0m\u001B[0;34m(\u001B[0m\u001B[0mdata\u001B[0m\u001B[0;34m,\u001B[0m \u001B[0mself\u001B[0m\u001B[0;34m.\u001B[0m\u001B[0m_pin_memory_device\u001B[0m\u001B[0;34m)\u001B[0m\u001B[0;34m\u001B[0m\u001B[0;34m\u001B[0m\u001B[0m\n",
      "\u001B[0;32m/usr/local/lib/python3.11/dist-packages/torch/utils/data/_utils/fetch.py\u001B[0m in \u001B[0;36mfetch\u001B[0;34m(self, possibly_batched_index)\u001B[0m\n\u001B[1;32m     50\u001B[0m                 \u001B[0mdata\u001B[0m \u001B[0;34m=\u001B[0m \u001B[0mself\u001B[0m\u001B[0;34m.\u001B[0m\u001B[0mdataset\u001B[0m\u001B[0;34m.\u001B[0m\u001B[0m__getitems__\u001B[0m\u001B[0;34m(\u001B[0m\u001B[0mpossibly_batched_index\u001B[0m\u001B[0;34m)\u001B[0m\u001B[0;34m\u001B[0m\u001B[0;34m\u001B[0m\u001B[0m\n\u001B[1;32m     51\u001B[0m             \u001B[0;32melse\u001B[0m\u001B[0;34m:\u001B[0m\u001B[0;34m\u001B[0m\u001B[0;34m\u001B[0m\u001B[0m\n\u001B[0;32m---> 52\u001B[0;31m                 \u001B[0mdata\u001B[0m \u001B[0;34m=\u001B[0m \u001B[0;34m[\u001B[0m\u001B[0mself\u001B[0m\u001B[0;34m.\u001B[0m\u001B[0mdataset\u001B[0m\u001B[0;34m[\u001B[0m\u001B[0midx\u001B[0m\u001B[0;34m]\u001B[0m \u001B[0;32mfor\u001B[0m \u001B[0midx\u001B[0m \u001B[0;32min\u001B[0m \u001B[0mpossibly_batched_index\u001B[0m\u001B[0;34m]\u001B[0m\u001B[0;34m\u001B[0m\u001B[0;34m\u001B[0m\u001B[0m\n\u001B[0m\u001B[1;32m     53\u001B[0m         \u001B[0;32melse\u001B[0m\u001B[0;34m:\u001B[0m\u001B[0;34m\u001B[0m\u001B[0;34m\u001B[0m\u001B[0m\n\u001B[1;32m     54\u001B[0m             \u001B[0mdata\u001B[0m \u001B[0;34m=\u001B[0m \u001B[0mself\u001B[0m\u001B[0;34m.\u001B[0m\u001B[0mdataset\u001B[0m\u001B[0;34m[\u001B[0m\u001B[0mpossibly_batched_index\u001B[0m\u001B[0;34m]\u001B[0m\u001B[0;34m\u001B[0m\u001B[0;34m\u001B[0m\u001B[0m\n",
      "\u001B[0;32m/usr/local/lib/python3.11/dist-packages/torch/utils/data/_utils/fetch.py\u001B[0m in \u001B[0;36m<listcomp>\u001B[0;34m(.0)\u001B[0m\n\u001B[1;32m     50\u001B[0m                 \u001B[0mdata\u001B[0m \u001B[0;34m=\u001B[0m \u001B[0mself\u001B[0m\u001B[0;34m.\u001B[0m\u001B[0mdataset\u001B[0m\u001B[0;34m.\u001B[0m\u001B[0m__getitems__\u001B[0m\u001B[0;34m(\u001B[0m\u001B[0mpossibly_batched_index\u001B[0m\u001B[0;34m)\u001B[0m\u001B[0;34m\u001B[0m\u001B[0;34m\u001B[0m\u001B[0m\n\u001B[1;32m     51\u001B[0m             \u001B[0;32melse\u001B[0m\u001B[0;34m:\u001B[0m\u001B[0;34m\u001B[0m\u001B[0;34m\u001B[0m\u001B[0m\n\u001B[0;32m---> 52\u001B[0;31m                 \u001B[0mdata\u001B[0m \u001B[0;34m=\u001B[0m \u001B[0;34m[\u001B[0m\u001B[0mself\u001B[0m\u001B[0;34m.\u001B[0m\u001B[0mdataset\u001B[0m\u001B[0;34m[\u001B[0m\u001B[0midx\u001B[0m\u001B[0;34m]\u001B[0m \u001B[0;32mfor\u001B[0m \u001B[0midx\u001B[0m \u001B[0;32min\u001B[0m \u001B[0mpossibly_batched_index\u001B[0m\u001B[0;34m]\u001B[0m\u001B[0;34m\u001B[0m\u001B[0;34m\u001B[0m\u001B[0m\n\u001B[0m\u001B[1;32m     53\u001B[0m         \u001B[0;32melse\u001B[0m\u001B[0;34m:\u001B[0m\u001B[0;34m\u001B[0m\u001B[0;34m\u001B[0m\u001B[0m\n\u001B[1;32m     54\u001B[0m             \u001B[0mdata\u001B[0m \u001B[0;34m=\u001B[0m \u001B[0mself\u001B[0m\u001B[0;34m.\u001B[0m\u001B[0mdataset\u001B[0m\u001B[0;34m[\u001B[0m\u001B[0mpossibly_batched_index\u001B[0m\u001B[0;34m]\u001B[0m\u001B[0;34m\u001B[0m\u001B[0;34m\u001B[0m\u001B[0m\n",
      "\u001B[0;32m/usr/local/lib/python3.11/dist-packages/torchvision/datasets/folder.py\u001B[0m in \u001B[0;36m__getitem__\u001B[0;34m(self, index)\u001B[0m\n\u001B[1;32m    245\u001B[0m         \u001B[0msample\u001B[0m \u001B[0;34m=\u001B[0m \u001B[0mself\u001B[0m\u001B[0;34m.\u001B[0m\u001B[0mloader\u001B[0m\u001B[0;34m(\u001B[0m\u001B[0mpath\u001B[0m\u001B[0;34m)\u001B[0m\u001B[0;34m\u001B[0m\u001B[0;34m\u001B[0m\u001B[0m\n\u001B[1;32m    246\u001B[0m         \u001B[0;32mif\u001B[0m \u001B[0mself\u001B[0m\u001B[0;34m.\u001B[0m\u001B[0mtransform\u001B[0m \u001B[0;32mis\u001B[0m \u001B[0;32mnot\u001B[0m \u001B[0;32mNone\u001B[0m\u001B[0;34m:\u001B[0m\u001B[0;34m\u001B[0m\u001B[0;34m\u001B[0m\u001B[0m\n\u001B[0;32m--> 247\u001B[0;31m             \u001B[0msample\u001B[0m \u001B[0;34m=\u001B[0m \u001B[0mself\u001B[0m\u001B[0;34m.\u001B[0m\u001B[0mtransform\u001B[0m\u001B[0;34m(\u001B[0m\u001B[0msample\u001B[0m\u001B[0;34m)\u001B[0m\u001B[0;34m\u001B[0m\u001B[0;34m\u001B[0m\u001B[0m\n\u001B[0m\u001B[1;32m    248\u001B[0m         \u001B[0;32mif\u001B[0m \u001B[0mself\u001B[0m\u001B[0;34m.\u001B[0m\u001B[0mtarget_transform\u001B[0m \u001B[0;32mis\u001B[0m \u001B[0;32mnot\u001B[0m \u001B[0;32mNone\u001B[0m\u001B[0;34m:\u001B[0m\u001B[0;34m\u001B[0m\u001B[0;34m\u001B[0m\u001B[0m\n\u001B[1;32m    249\u001B[0m             \u001B[0mtarget\u001B[0m \u001B[0;34m=\u001B[0m \u001B[0mself\u001B[0m\u001B[0;34m.\u001B[0m\u001B[0mtarget_transform\u001B[0m\u001B[0;34m(\u001B[0m\u001B[0mtarget\u001B[0m\u001B[0;34m)\u001B[0m\u001B[0;34m\u001B[0m\u001B[0;34m\u001B[0m\u001B[0m\n",
      "\u001B[0;32m/usr/local/lib/python3.11/dist-packages/torchvision/transforms/transforms.py\u001B[0m in \u001B[0;36m__call__\u001B[0;34m(self, img)\u001B[0m\n\u001B[1;32m     93\u001B[0m     \u001B[0;32mdef\u001B[0m \u001B[0m__call__\u001B[0m\u001B[0;34m(\u001B[0m\u001B[0mself\u001B[0m\u001B[0;34m,\u001B[0m \u001B[0mimg\u001B[0m\u001B[0;34m)\u001B[0m\u001B[0;34m:\u001B[0m\u001B[0;34m\u001B[0m\u001B[0;34m\u001B[0m\u001B[0m\n\u001B[1;32m     94\u001B[0m         \u001B[0;32mfor\u001B[0m \u001B[0mt\u001B[0m \u001B[0;32min\u001B[0m \u001B[0mself\u001B[0m\u001B[0;34m.\u001B[0m\u001B[0mtransforms\u001B[0m\u001B[0;34m:\u001B[0m\u001B[0;34m\u001B[0m\u001B[0;34m\u001B[0m\u001B[0m\n\u001B[0;32m---> 95\u001B[0;31m             \u001B[0mimg\u001B[0m \u001B[0;34m=\u001B[0m \u001B[0mt\u001B[0m\u001B[0;34m(\u001B[0m\u001B[0mimg\u001B[0m\u001B[0;34m)\u001B[0m\u001B[0;34m\u001B[0m\u001B[0;34m\u001B[0m\u001B[0m\n\u001B[0m\u001B[1;32m     96\u001B[0m         \u001B[0;32mreturn\u001B[0m \u001B[0mimg\u001B[0m\u001B[0;34m\u001B[0m\u001B[0;34m\u001B[0m\u001B[0m\n\u001B[1;32m     97\u001B[0m \u001B[0;34m\u001B[0m\u001B[0m\n",
      "\u001B[0;32m/usr/local/lib/python3.11/dist-packages/torch/nn/modules/module.py\u001B[0m in \u001B[0;36m_wrapped_call_impl\u001B[0;34m(self, *args, **kwargs)\u001B[0m\n\u001B[1;32m   1737\u001B[0m             \u001B[0;32mreturn\u001B[0m \u001B[0mself\u001B[0m\u001B[0;34m.\u001B[0m\u001B[0m_compiled_call_impl\u001B[0m\u001B[0;34m(\u001B[0m\u001B[0;34m*\u001B[0m\u001B[0margs\u001B[0m\u001B[0;34m,\u001B[0m \u001B[0;34m**\u001B[0m\u001B[0mkwargs\u001B[0m\u001B[0;34m)\u001B[0m  \u001B[0;31m# type: ignore[misc]\u001B[0m\u001B[0;34m\u001B[0m\u001B[0;34m\u001B[0m\u001B[0m\n\u001B[1;32m   1738\u001B[0m         \u001B[0;32melse\u001B[0m\u001B[0;34m:\u001B[0m\u001B[0;34m\u001B[0m\u001B[0;34m\u001B[0m\u001B[0m\n\u001B[0;32m-> 1739\u001B[0;31m             \u001B[0;32mreturn\u001B[0m \u001B[0mself\u001B[0m\u001B[0;34m.\u001B[0m\u001B[0m_call_impl\u001B[0m\u001B[0;34m(\u001B[0m\u001B[0;34m*\u001B[0m\u001B[0margs\u001B[0m\u001B[0;34m,\u001B[0m \u001B[0;34m**\u001B[0m\u001B[0mkwargs\u001B[0m\u001B[0;34m)\u001B[0m\u001B[0;34m\u001B[0m\u001B[0;34m\u001B[0m\u001B[0m\n\u001B[0m\u001B[1;32m   1740\u001B[0m \u001B[0;34m\u001B[0m\u001B[0m\n\u001B[1;32m   1741\u001B[0m     \u001B[0;31m# torchrec tests the code consistency with the following code\u001B[0m\u001B[0;34m\u001B[0m\u001B[0;34m\u001B[0m\u001B[0m\n",
      "\u001B[0;32m/usr/local/lib/python3.11/dist-packages/torch/nn/modules/module.py\u001B[0m in \u001B[0;36m_call_impl\u001B[0;34m(self, *args, **kwargs)\u001B[0m\n\u001B[1;32m   1748\u001B[0m                 \u001B[0;32mor\u001B[0m \u001B[0m_global_backward_pre_hooks\u001B[0m \u001B[0;32mor\u001B[0m \u001B[0m_global_backward_hooks\u001B[0m\u001B[0;34m\u001B[0m\u001B[0;34m\u001B[0m\u001B[0m\n\u001B[1;32m   1749\u001B[0m                 or _global_forward_hooks or _global_forward_pre_hooks):\n\u001B[0;32m-> 1750\u001B[0;31m             \u001B[0;32mreturn\u001B[0m \u001B[0mforward_call\u001B[0m\u001B[0;34m(\u001B[0m\u001B[0;34m*\u001B[0m\u001B[0margs\u001B[0m\u001B[0;34m,\u001B[0m \u001B[0;34m**\u001B[0m\u001B[0mkwargs\u001B[0m\u001B[0;34m)\u001B[0m\u001B[0;34m\u001B[0m\u001B[0;34m\u001B[0m\u001B[0m\n\u001B[0m\u001B[1;32m   1751\u001B[0m \u001B[0;34m\u001B[0m\u001B[0m\n\u001B[1;32m   1752\u001B[0m         \u001B[0mresult\u001B[0m \u001B[0;34m=\u001B[0m \u001B[0;32mNone\u001B[0m\u001B[0;34m\u001B[0m\u001B[0;34m\u001B[0m\u001B[0m\n",
      "\u001B[0;32m/usr/local/lib/python3.11/dist-packages/torchvision/transforms/transforms.py\u001B[0m in \u001B[0;36mforward\u001B[0;34m(self, img)\u001B[0m\n\u001B[1;32m    352\u001B[0m             \u001B[0mPIL\u001B[0m \u001B[0mImage\u001B[0m \u001B[0;32mor\u001B[0m \u001B[0mTensor\u001B[0m\u001B[0;34m:\u001B[0m \u001B[0mRescaled\u001B[0m \u001B[0mimage\u001B[0m\u001B[0;34m.\u001B[0m\u001B[0;34m\u001B[0m\u001B[0;34m\u001B[0m\u001B[0m\n\u001B[1;32m    353\u001B[0m         \"\"\"\n\u001B[0;32m--> 354\u001B[0;31m         \u001B[0;32mreturn\u001B[0m \u001B[0mF\u001B[0m\u001B[0;34m.\u001B[0m\u001B[0mresize\u001B[0m\u001B[0;34m(\u001B[0m\u001B[0mimg\u001B[0m\u001B[0;34m,\u001B[0m \u001B[0mself\u001B[0m\u001B[0;34m.\u001B[0m\u001B[0msize\u001B[0m\u001B[0;34m,\u001B[0m \u001B[0mself\u001B[0m\u001B[0;34m.\u001B[0m\u001B[0minterpolation\u001B[0m\u001B[0;34m,\u001B[0m \u001B[0mself\u001B[0m\u001B[0;34m.\u001B[0m\u001B[0mmax_size\u001B[0m\u001B[0;34m,\u001B[0m \u001B[0mself\u001B[0m\u001B[0;34m.\u001B[0m\u001B[0mantialias\u001B[0m\u001B[0;34m)\u001B[0m\u001B[0;34m\u001B[0m\u001B[0;34m\u001B[0m\u001B[0m\n\u001B[0m\u001B[1;32m    355\u001B[0m \u001B[0;34m\u001B[0m\u001B[0m\n\u001B[1;32m    356\u001B[0m     \u001B[0;32mdef\u001B[0m \u001B[0m__repr__\u001B[0m\u001B[0;34m(\u001B[0m\u001B[0mself\u001B[0m\u001B[0;34m)\u001B[0m \u001B[0;34m->\u001B[0m \u001B[0mstr\u001B[0m\u001B[0;34m:\u001B[0m\u001B[0;34m\u001B[0m\u001B[0;34m\u001B[0m\u001B[0m\n",
      "\u001B[0;32m/usr/local/lib/python3.11/dist-packages/torchvision/transforms/functional.py\u001B[0m in \u001B[0;36mresize\u001B[0;34m(img, size, interpolation, max_size, antialias)\u001B[0m\n\u001B[1;32m    475\u001B[0m             \u001B[0mwarnings\u001B[0m\u001B[0;34m.\u001B[0m\u001B[0mwarn\u001B[0m\u001B[0;34m(\u001B[0m\u001B[0;34m\"Anti-alias option is always applied for PIL Image input. Argument antialias is ignored.\"\u001B[0m\u001B[0;34m)\u001B[0m\u001B[0;34m\u001B[0m\u001B[0;34m\u001B[0m\u001B[0m\n\u001B[1;32m    476\u001B[0m         \u001B[0mpil_interpolation\u001B[0m \u001B[0;34m=\u001B[0m \u001B[0mpil_modes_mapping\u001B[0m\u001B[0;34m[\u001B[0m\u001B[0minterpolation\u001B[0m\u001B[0;34m]\u001B[0m\u001B[0;34m\u001B[0m\u001B[0;34m\u001B[0m\u001B[0m\n\u001B[0;32m--> 477\u001B[0;31m         \u001B[0;32mreturn\u001B[0m \u001B[0mF_pil\u001B[0m\u001B[0;34m.\u001B[0m\u001B[0mresize\u001B[0m\u001B[0;34m(\u001B[0m\u001B[0mimg\u001B[0m\u001B[0;34m,\u001B[0m \u001B[0msize\u001B[0m\u001B[0;34m=\u001B[0m\u001B[0moutput_size\u001B[0m\u001B[0;34m,\u001B[0m \u001B[0minterpolation\u001B[0m\u001B[0;34m=\u001B[0m\u001B[0mpil_interpolation\u001B[0m\u001B[0;34m)\u001B[0m\u001B[0;34m\u001B[0m\u001B[0;34m\u001B[0m\u001B[0m\n\u001B[0m\u001B[1;32m    478\u001B[0m \u001B[0;34m\u001B[0m\u001B[0m\n\u001B[1;32m    479\u001B[0m     \u001B[0;32mreturn\u001B[0m \u001B[0mF_t\u001B[0m\u001B[0;34m.\u001B[0m\u001B[0mresize\u001B[0m\u001B[0;34m(\u001B[0m\u001B[0mimg\u001B[0m\u001B[0;34m,\u001B[0m \u001B[0msize\u001B[0m\u001B[0;34m=\u001B[0m\u001B[0moutput_size\u001B[0m\u001B[0;34m,\u001B[0m \u001B[0minterpolation\u001B[0m\u001B[0;34m=\u001B[0m\u001B[0minterpolation\u001B[0m\u001B[0;34m.\u001B[0m\u001B[0mvalue\u001B[0m\u001B[0;34m,\u001B[0m \u001B[0mantialias\u001B[0m\u001B[0;34m=\u001B[0m\u001B[0mantialias\u001B[0m\u001B[0;34m)\u001B[0m\u001B[0;34m\u001B[0m\u001B[0;34m\u001B[0m\u001B[0m\n",
      "\u001B[0;32m/usr/local/lib/python3.11/dist-packages/torchvision/transforms/_functional_pil.py\u001B[0m in \u001B[0;36mresize\u001B[0;34m(img, size, interpolation)\u001B[0m\n\u001B[1;32m    248\u001B[0m         \u001B[0;32mraise\u001B[0m \u001B[0mTypeError\u001B[0m\u001B[0;34m(\u001B[0m\u001B[0;34mf\"Got inappropriate size arg: {size}\"\u001B[0m\u001B[0;34m)\u001B[0m\u001B[0;34m\u001B[0m\u001B[0;34m\u001B[0m\u001B[0m\n\u001B[1;32m    249\u001B[0m \u001B[0;34m\u001B[0m\u001B[0m\n\u001B[0;32m--> 250\u001B[0;31m     \u001B[0;32mreturn\u001B[0m \u001B[0mimg\u001B[0m\u001B[0;34m.\u001B[0m\u001B[0mresize\u001B[0m\u001B[0;34m(\u001B[0m\u001B[0mtuple\u001B[0m\u001B[0;34m(\u001B[0m\u001B[0msize\u001B[0m\u001B[0;34m[\u001B[0m\u001B[0;34m:\u001B[0m\u001B[0;34m:\u001B[0m\u001B[0;34m-\u001B[0m\u001B[0;36m1\u001B[0m\u001B[0;34m]\u001B[0m\u001B[0;34m)\u001B[0m\u001B[0;34m,\u001B[0m \u001B[0minterpolation\u001B[0m\u001B[0;34m)\u001B[0m\u001B[0;34m\u001B[0m\u001B[0;34m\u001B[0m\u001B[0m\n\u001B[0m\u001B[1;32m    251\u001B[0m \u001B[0;34m\u001B[0m\u001B[0m\n\u001B[1;32m    252\u001B[0m \u001B[0;34m\u001B[0m\u001B[0m\n",
      "\u001B[0;32m/usr/local/lib/python3.11/dist-packages/PIL/Image.py\u001B[0m in \u001B[0;36mresize\u001B[0;34m(self, size, resample, box, reducing_gap)\u001B[0m\n\u001B[1;32m   2354\u001B[0m                 )\n\u001B[1;32m   2355\u001B[0m \u001B[0;34m\u001B[0m\u001B[0m\n\u001B[0;32m-> 2356\u001B[0;31m         \u001B[0;32mreturn\u001B[0m \u001B[0mself\u001B[0m\u001B[0;34m.\u001B[0m\u001B[0m_new\u001B[0m\u001B[0;34m(\u001B[0m\u001B[0mself\u001B[0m\u001B[0;34m.\u001B[0m\u001B[0mim\u001B[0m\u001B[0;34m.\u001B[0m\u001B[0mresize\u001B[0m\u001B[0;34m(\u001B[0m\u001B[0msize\u001B[0m\u001B[0;34m,\u001B[0m \u001B[0mresample\u001B[0m\u001B[0;34m,\u001B[0m \u001B[0mbox\u001B[0m\u001B[0;34m)\u001B[0m\u001B[0;34m)\u001B[0m\u001B[0;34m\u001B[0m\u001B[0;34m\u001B[0m\u001B[0m\n\u001B[0m\u001B[1;32m   2357\u001B[0m \u001B[0;34m\u001B[0m\u001B[0m\n\u001B[1;32m   2358\u001B[0m     def reduce(\n",
      "\u001B[0;31mKeyboardInterrupt\u001B[0m: "
     ]
    }
   ],
   "source": [
    "import torch\n",
    "from sklearn.metrics import f1_score\n",
    "import pandas as pd\n",
    "from tqdm import tqdm\n",
    "\n",
    "best_f1 = 0.0\n",
    "best_acc = 0.0\n",
    "\n",
    "for epoch in range(EPOCHS):\n",
    "    # --- train\n",
    "    model.train()\n",
    "    running_loss = 0.0\n",
    "    correct, total = 0, 0\n",
    "    all_preds_train = []\n",
    "    all_labels_train = []\n",
    "\n",
    "    loop = tqdm(train_loader, desc=f\"Эпоха {epoch+1}/{EPOCHS}\")\n",
    "\n",
    "    for images, labels in loop:\n",
    "        images, labels = images.to(device), labels.to(device)\n",
    "        optimizer.zero_grad()\n",
    "        outputs = model(images)\n",
    "        loss = criterion(outputs, labels)\n",
    "        loss.backward()\n",
    "        optimizer.step()\n",
    "\n",
    "        running_loss += loss.item()\n",
    "\n",
    "        _, predicted = torch.max(outputs, dim=1)\n",
    "        correct += (predicted == labels).sum().item()\n",
    "        total += labels.size(0)\n",
    "\n",
    "        all_preds_train.extend(predicted.cpu().numpy())\n",
    "        all_labels_train.extend(labels.cpu().numpy())\n",
    "\n",
    "        train_loss = running_loss / (loop.n + 1)\n",
    "        train_acc = correct / total\n",
    "\n",
    "        loop.set_description(f\"Эпоха {epoch+1}/{EPOCHS}, Train Loss: {train_loss:.4f}, Train Acc: {train_acc:.4f}\")\n",
    "\n",
    "    f1_train = f1_score(all_labels_train, all_preds_train, average=\"weighted\")\n",
    "\n",
    "    # --- validation\n",
    "    model.eval()\n",
    "    val_loss, val_correct, val_total = 0.0, 0, 0\n",
    "    all_preds_val = []\n",
    "    all_labels_val = []\n",
    "\n",
    "    with torch.no_grad():\n",
    "        for images, labels in validation_loader:\n",
    "            images, labels = images.to(device), labels.to(device)\n",
    "            outputs = model(images)\n",
    "            loss = criterion(outputs, labels)\n",
    "            val_loss += loss.item()\n",
    "\n",
    "            _, predicted = torch.max(outputs, 1)\n",
    "            val_correct += (predicted == labels).sum().item()\n",
    "            val_total += labels.size(0)\n",
    "\n",
    "            all_preds_val.extend(predicted.cpu().numpy())\n",
    "            all_labels_val.extend(labels.cpu().numpy())\n",
    "\n",
    "    val_loss /= len(validation_loader)\n",
    "    val_acc = val_correct / val_total\n",
    "    f1_val = f1_score(all_labels_val, all_preds_val, average=\"weighted\")\n",
    "\n",
    "    scheduler.step(f1_val)\n",
    "    # --- сохранение метрик\n",
    "    new_row = pd.DataFrame([{\n",
    "        \"Epoch\": epoch + 1,\n",
    "        \"Train Loss\": train_loss,\n",
    "        \"Train Accuracy\": train_acc,\n",
    "        \"Train F1\": f1_train,\n",
    "        \"Val Loss\": val_loss,\n",
    "        \"Val Accuracy\": val_acc,\n",
    "        \"Val F1\": f1_val\n",
    "    }])\n",
    "    metrics_df = pd.concat([metrics_df, new_row], ignore_index=True)\n",
    "\n",
    "    # --- сохранение моделей\n",
    "    torch.save(model.state_dict(), \"last_model.pth\")\n",
    "\n",
    "    if f1_val > best_f1:\n",
    "        best_f1 = f1_val\n",
    "        torch.save(model.state_dict(), \"best_f1_model.pth\")\n",
    "\n",
    "    if val_acc > best_acc:\n",
    "        best_acc = val_acc\n",
    "        torch.save(model.state_dict(), \"best_acc_model.pth\")\n",
    "\n",
    "    print(f\"Эпоха {epoch+1}: Val Loss = {val_loss:.4f}, Val Acc = {val_acc:.4f}, F1 = {f1_val:.4f}\")\n"
   ]
  },
  {
   "cell_type": "code",
   "execution_count": 18,
   "id": "602e96ef15fcad64",
   "metadata": {
    "ExecuteTime": {
     "end_time": "2025-03-13T06:10:17.255344Z",
     "start_time": "2025-03-13T06:10:17.236944Z"
    },
    "id": "602e96ef15fcad64"
   },
   "outputs": [],
   "source": [
    "metrics_df.to_csv(\"model.csv\", index=False)\n",
    "torch.save(model.state_dict(), 'model.pth')\n"
   ]
  },
  {
   "cell_type": "code",
   "id": "rPeqNxTUWqpW",
   "metadata": {
    "colab": {
     "base_uri": "https://localhost:8080/"
    },
    "id": "rPeqNxTUWqpW",
    "outputId": "fa8b6fdf-4226-4821-8666-9f4f3230aa79",
    "ExecuteTime": {
     "end_time": "2025-04-09T14:01:37.848500Z",
     "start_time": "2025-04-09T14:01:37.785164Z"
    }
   },
   "source": [
    "model.load_state_dict(torch.load('best_f1_model.pth', map_location=device))\n",
    "model.eval()"
   ],
   "outputs": [
    {
     "data": {
      "text/plain": [
       "SimpsonClassifierCNNNet(\n",
       "  (conv1): Conv2d(3, 32, kernel_size=(3, 3), stride=(1, 1), padding=(1, 1))\n",
       "  (conv2): Conv2d(32, 64, kernel_size=(3, 3), stride=(1, 1), padding=(1, 1))\n",
       "  (conv3): Conv2d(64, 128, kernel_size=(3, 3), stride=(1, 1), padding=(1, 1))\n",
       "  (conv4): Conv2d(128, 256, kernel_size=(3, 3), stride=(1, 1), padding=(1, 1))\n",
       "  (conv5): Conv2d(256, 512, kernel_size=(3, 3), stride=(1, 1), padding=(1, 1))\n",
       "  (conv6): Conv2d(512, 1024, kernel_size=(3, 3), stride=(1, 1), padding=(1, 1))\n",
       "  (bn1): BatchNorm2d(32, eps=1e-05, momentum=0.1, affine=True, track_running_stats=True)\n",
       "  (bn2): BatchNorm2d(64, eps=1e-05, momentum=0.1, affine=True, track_running_stats=True)\n",
       "  (bn3): BatchNorm2d(128, eps=1e-05, momentum=0.1, affine=True, track_running_stats=True)\n",
       "  (bn4): BatchNorm2d(256, eps=1e-05, momentum=0.1, affine=True, track_running_stats=True)\n",
       "  (bn5): BatchNorm2d(512, eps=1e-05, momentum=0.1, affine=True, track_running_stats=True)\n",
       "  (bn6): BatchNorm2d(1024, eps=1e-05, momentum=0.1, affine=True, track_running_stats=True)\n",
       "  (bnfc): BatchNorm1d(576, eps=1e-05, momentum=0.1, affine=True, track_running_stats=True)\n",
       "  (relu): ReLU()\n",
       "  (pool): MaxPool2d(kernel_size=2, stride=2, padding=0, dilation=1, ceil_mode=False)\n",
       "  (global_pool): AdaptiveAvgPool2d(output_size=(1, 1))\n",
       "  (fc1): Linear(in_features=1024, out_features=576, bias=True)\n",
       "  (fc2): Linear(in_features=576, out_features=13, bias=True)\n",
       "  (dropout): Dropout(p=0.2, inplace=False)\n",
       "  (dropoutfc): Dropout(p=0.5, inplace=False)\n",
       ")"
      ]
     },
     "execution_count": 16,
     "metadata": {},
     "output_type": "execute_result"
    }
   ],
   "execution_count": 16
  },
  {
   "cell_type": "code",
   "id": "826ec881cafda044",
   "metadata": {
    "colab": {
     "base_uri": "https://localhost:8080/",
     "height": 831
    },
    "id": "826ec881cafda044",
    "outputId": "a04c41cc-c9ea-426d-8ba4-587ea012d3f9",
    "ExecuteTime": {
     "end_time": "2025-04-09T14:01:40.080235Z",
     "start_time": "2025-04-09T14:01:39.822958Z"
    }
   },
   "source": [
    "import pandas as pd\n",
    "import matplotlib.pyplot as plt\n",
    "\n",
    "file_path = \"model.csv\"\n",
    "df = pd.read_csv(file_path)\n",
    "\n",
    "epochs = df[\"Epoch\"]\n",
    "train_loss = df[\"Train Loss\"]\n",
    "train_acc = df[\"Train Accuracy\"]\n",
    "val_loss = df[\"Val Loss\"]\n",
    "val_acc = df[\"Val Accuracy\"]\n",
    "\n",
    "plt.figure(figsize=(10, 5))\n",
    "plt.plot(epochs, train_loss, label=\"Train Loss\", color='blue', linestyle='dashed', marker='o')\n",
    "plt.plot(epochs, val_loss, label=\"Validation Loss\", color='red', linestyle='dashed', marker='s')\n",
    "plt.xlabel(\"Epochs\")\n",
    "plt.ylabel(\"Loss\")\n",
    "plt.title(\"Training and Validation Loss\")\n",
    "plt.legend()\n",
    "plt.grid()\n",
    "plt.show()\n",
    "\n",
    "# Построение графиков точности\n",
    "plt.figure(figsize=(10, 5))\n",
    "plt.plot(epochs, train_acc, label=\"Train Accuracy\", color='green', linestyle='solid', marker='o')\n",
    "plt.plot(epochs, val_acc, label=\"Validation Accuracy\", color='orange', linestyle='solid', marker='s')\n",
    "plt.xlabel(\"Epochs\")\n",
    "plt.ylabel(\"Accuracy\")\n",
    "plt.title(\"Training and Validation Accuracy\")\n",
    "plt.legend()\n",
    "plt.grid()\n",
    "plt.show()"
   ],
   "outputs": [
    {
     "data": {
      "text/plain": [
       "<Figure size 1000x500 with 1 Axes>"
      ],
      "image/png": "[encoded data removed]"
     },
     "metadata": {},
     "output_type": "display_data"
    },
    {
     "data": {
      "text/plain": [
       "<Figure size 1000x500 with 1 Axes>"
      ],
      "image/png": "[encoded data removed]"
     },
     "metadata": {},
     "output_type": "display_data"
    }
   ],
   "execution_count": 17
  },
  {
   "cell_type": "code",
   "id": "97cd6c9d38772772",
   "metadata": {
    "colab": {
     "base_uri": "https://localhost:8080/"
    },
    "id": "97cd6c9d38772772",
    "outputId": "29d27967-f791-4981-fca7-05da35c4584a",
    "ExecuteTime": {
     "end_time": "2025-04-09T14:03:04.225444Z",
     "start_time": "2025-04-09T14:02:47.705711Z"
    }
   },
   "source": [
    "import numpy as np\n",
    "\n",
    "y_true = []\n",
    "y_pred = []\n",
    "\n",
    "for batch_images, batch_labels in tqdm(test_loader):\n",
    "    batch_images = batch_images.to(device)\n",
    "    batch_predictions = model(batch_images)\n",
    "    batch_pred_labels = np.argmax(batch_predictions.detach().cpu().numpy(), axis=1)\n",
    "\n",
    "    y_true.extend(batch_labels.detach().cpu().numpy())\n",
    "    y_pred.extend(batch_pred_labels)\n",
    "\n",
    "y_true = np.array(y_true)\n",
    "y_pred = np.array(y_pred)"
   ],
   "outputs": [
    {
     "name": "stderr",
     "output_type": "stream",
     "text": [
      "100%|██████████| 20/20 [00:16<00:00,  1.21it/s]\n"
     ]
    }
   ],
   "execution_count": 24
  },
  {
   "metadata": {
    "ExecuteTime": {
     "end_time": "2025-04-09T14:33:16.128328Z",
     "start_time": "2025-04-09T14:33:16.125068Z"
    }
   },
   "cell_type": "code",
   "source": [
    "from collections import Counter\n",
    "import numpy as np\n",
    "\n",
    "# train_dataset.targets — это список меток классов для всех изображений\n",
    "class_counts = Counter(test_dataset.targets)\n",
    "\n",
    "# Отобразим названия классов\n",
    "for idx, class_name in enumerate(train_dataset.classes):\n",
    "    print(f\"{class_name}: {class_counts[idx]}\")\n"
   ],
   "id": "1b149c59cc49feb6",
   "outputs": [
    {
     "name": "stdout",
     "output_type": "stream",
     "text": [
      "abraham_grampa_simpson: 137\n",
      "bart_simpson: 202\n",
      "charles_montgomery_burns: 179\n",
      "chief_wiggum: 148\n",
      "homer_simpson: 337\n",
      "krusty_the_clown: 181\n",
      "lisa_simpson: 204\n",
      "marge_simpson: 194\n",
      "milhouse_van_houten: 162\n",
      "moe_szyslak: 218\n",
      "ned_flanders: 219\n",
      "principal_skinner: 180\n",
      "sideshow_bob: 132\n"
     ]
    }
   ],
   "execution_count": 36
  },
  {
   "cell_type": "code",
   "id": "95e656c7509af649",
   "metadata": {
    "colab": {
     "base_uri": "https://localhost:8080/",
     "height": 651
    },
    "id": "95e656c7509af649",
    "outputId": "dfda95e8-042b-4b39-fc1d-e25e627d9533",
    "ExecuteTime": {
     "end_time": "2025-04-09T14:46:06.114576Z",
     "start_time": "2025-04-09T14:46:05.831334Z"
    }
   },
   "source": [
    "from sklearn.metrics import classification_report, confusion_matrix\n",
    "import seaborn as sns\n",
    "import matplotlib.pyplot as plt\n",
    "\n",
    "# --- Классификационный отчёт\n",
    "print('\\n', classification_report(\n",
    "    y_true,\n",
    "    y_pred,\n",
    "    target_names=[name.replace('_', ' ') for name in allowed_classes],\n",
    "    digits=3\n",
    "))\n",
    "\n",
    "# --- Матрица ошибок\n",
    "plt.figure(figsize=(15, 12))\n",
    "cm = confusion_matrix(y_true, y_pred)\n",
    "sns.heatmap(cm,\n",
    "            annot=True,\n",
    "            fmt='d',\n",
    "            cmap='Blues',\n",
    "            xticklabels=[name.replace('_', ' ') for name in allowed_classes],\n",
    "            yticklabels=[name.replace('_', ' ') for name in allowed_classes])\n",
    "\n",
    "plt.title('Confusion Matrix')\n",
    "plt.xlabel('Predicted')\n",
    "plt.ylabel('Actual')\n",
    "plt.xticks(rotation=45, ha='right')\n",
    "plt.yticks(rotation=0)\n",
    "plt.tight_layout()\n",
    "plt.show()\n"
   ],
   "outputs": [
    {
     "name": "stdout",
     "output_type": "stream",
     "text": [
      "\n",
      "                           precision    recall  f1-score   support\n",
      "\n",
      "           homer simpson      0.902     0.942     0.921       137\n",
      "            ned flanders      0.903     0.970     0.936       202\n",
      "             moe szyslak      0.960     0.939     0.949       179\n",
      "            lisa simpson      0.971     0.899     0.933       148\n",
      "            bart simpson      0.958     0.953     0.955       337\n",
      "           marge simpson      0.978     0.989     0.984       181\n",
      "        krusty the clown      0.935     0.917     0.926       204\n",
      "       principal skinner      0.949     0.964     0.957       194\n",
      "charles montgomery burns      0.981     0.975     0.978       162\n",
      "     milhouse van houten      0.917     0.968     0.942       218\n",
      "            chief wiggum      0.991     0.963     0.977       219\n",
      "  abraham grampa simpson      0.988     0.933     0.960       180\n",
      "            sideshow bob      0.962     0.962     0.962       132\n",
      "\n",
      "                accuracy                          0.953      2493\n",
      "               macro avg      0.954     0.952     0.952      2493\n",
      "            weighted avg      0.954     0.953     0.953      2493\n",
      "\n"
     ]
    },
    {
     "data": {
      "text/plain": [
       "<Figure size 1500x1200 with 2 Axes>"
      ],
      "image/png": "[encoded data removed]"
     },
     "metadata": {},
     "output_type": "display_data"
    }
   ],
   "execution_count": 38
  },
  {
   "cell_type": "code",
   "id": "e41316cf74f1fb78",
   "metadata": {
    "colab": {
     "base_uri": "https://localhost:8080/"
    },
    "id": "e41316cf74f1fb78",
    "outputId": "aeda23d2-7818-453e-835c-425651f0648a",
    "ExecuteTime": {
     "end_time": "2025-04-09T14:03:19.579412Z",
     "start_time": "2025-04-09T14:03:19.570612Z"
    }
   },
   "source": [
    "num_classes = len(np.unique(y_true))  # Определяем количество классов\n",
    "class_accuracies = {}\n",
    "\n",
    "for cls in range(num_classes):\n",
    "    cls_mask = (y_true == cls)\n",
    "    class_accuracies[cls] = accuracy_score(y_true[cls_mask], y_pred[cls_mask])\n",
    "\n",
    "for cls, acc in class_accuracies.items():\n",
    "    print(f\"Class {allowed_classes[cls]}: Accuracy = {acc:.4f}\")"
   ],
   "outputs": [
    {
     "name": "stdout",
     "output_type": "stream",
     "text": [
      "Class homer_simpson: Accuracy = 0.9416\n",
      "Class ned_flanders: Accuracy = 0.9703\n",
      "Class moe_szyslak: Accuracy = 0.9385\n",
      "Class lisa_simpson: Accuracy = 0.8986\n",
      "Class bart_simpson: Accuracy = 0.9525\n",
      "Class marge_simpson: Accuracy = 0.9890\n",
      "Class krusty_the_clown: Accuracy = 0.9167\n",
      "Class principal_skinner: Accuracy = 0.9639\n",
      "Class charles_montgomery_burns: Accuracy = 0.9753\n",
      "Class milhouse_van_houten: Accuracy = 0.9679\n",
      "Class chief_wiggum: Accuracy = 0.9635\n",
      "Class abraham_grampa_simpson: Accuracy = 0.9333\n",
      "Class sideshow_bob: Accuracy = 0.9621\n"
     ]
    }
   ],
   "execution_count": 26
  },
  {
   "metadata": {},
   "cell_type": "code",
   "outputs": [],
   "execution_count": null,
   "source": "",
   "id": "5e899fa5ae90546"
  }
 ],
 "metadata": {
  "accelerator": "GPU",
  "colab": {
   "gpuType": "T4",
   "provenance": []
  },
  "kernelspec": {
   "display_name": "Python 3 (ipykernel)",
   "language": "python",
   "name": "python3"
  },
  "language_info": {
   "codemirror_mode": {
    "name": "ipython",
    "version": 3
   },
   "file_extension": ".py",
   "mimetype": "text/x-python",
   "name": "python",
   "nbconvert_exporter": "python",
   "pygments_lexer": "ipython3",
   "version": "3.12.8"
  }
 },
 "nbformat": 4,
 "nbformat_minor": 5
}
