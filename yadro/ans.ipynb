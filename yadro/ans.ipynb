{
 "cells": [
  {
   "metadata": {},
   "cell_type": "markdown",
   "source": [
    "# Задание 1\n",
    "\n",
    "Аудио длинной в 1 секунду и частотой дискретизации в 16 кГЦ загоняем в SIFT с окном в 25 мс и шагом в 10 мс.\\\n",
    "Требуется найти количество поместившихся в него временных окон"
   ],
   "id": "46c55cbcefe44f1d"
  },
  {
   "metadata": {
    "ExecuteTime": {
     "end_time": "2025-04-16T10:26:02.610023Z",
     "start_time": "2025-04-16T10:26:02.604652Z"
    }
   },
   "cell_type": "code",
   "source": [
    "def count_stft_frames(sample_rate, sample_duration, window_size, step_size):\n",
    "    # переводим из секунд в количество семплов\n",
    "    # длинна в секундах на частоту дискретизации в герцах(семплов в секунду)\n",
    "    window_size = window_size * sample_rate\n",
    "    step_size = step_size * sample_rate\n",
    "\n",
    "    samples = sample_duration * sample_rate  # кличество семплов в аудио\n",
    "\n",
    "    # считаем количество окон (сколько целых шагов нужно чтобы дойти до последнего + 1 последний)\n",
    "    frames = (samples - window_size) // step_size + 1  # -> получем только окна которые полностью помещаются в сигнал\n",
    "\n",
    "    return int(frames)  # frames уже целое из за целочисленного деления"
   ],
   "id": "7eda226cd403c4af",
   "outputs": [],
   "execution_count": 25
  },
  {
   "cell_type": "code",
   "id": "initial_id",
   "metadata": {
    "collapsed": true,
    "ExecuteTime": {
     "end_time": "2025-04-16T10:26:03.081331Z",
     "start_time": "2025-04-16T10:26:03.078267Z"
    }
   },
   "source": [
    "sample_rate = 16000  # частота дискретизации в герцах\n",
    "sample_duration = 1  # длительность сигнала в секундах\n",
    "window_size = 0.025  # длина окна в секундах\n",
    "step_size = 0.010  # шаг окна в секундах"
   ],
   "outputs": [],
   "execution_count": 26
  },
  {
   "metadata": {
    "ExecuteTime": {
     "end_time": "2025-04-16T10:26:03.530543Z",
     "start_time": "2025-04-16T10:26:03.527809Z"
    }
   },
   "cell_type": "code",
   "source": [
    "frames = count_stft_frames(sample_rate, sample_duration, window_size, step_size)\n",
    "\n",
    "print(f\"Временных окон: {frames}\")"
   ],
   "id": "8b8dee6f8974655c",
   "outputs": [
    {
     "name": "stdout",
     "output_type": "stream",
     "text": [
      "Временных окон: 98\n"
     ]
    }
   ],
   "execution_count": 27
  },
  {
   "metadata": {},
   "cell_type": "markdown",
   "source": [
    "# Задание 2\n",
    "\n",
    "Модель: y_pred = wx + b\\\n",
    "Функция потерь: L = (y_pred - y_true)^2\n",
    "\n",
    "вес w = 2.0 и смещение b = 1.0\n",
    "\n",
    "на входе x = 3\\\n",
    "ожидаемый предикт y_true = 10\n",
    "\n",
    "Требуется посчитать градиенты для w и b"
   ],
   "id": "727c458ec91dc655"
  },
  {
   "metadata": {
    "ExecuteTime": {
     "end_time": "2025-04-16T11:15:35.595072Z",
     "start_time": "2025-04-16T11:15:35.588368Z"
    }
   },
   "cell_type": "code",
   "source": [
    "# модель y_pred = wx + b\n",
    "class Model:\n",
    "    def __init__(self, w, b):\n",
    "        self.w = w\n",
    "        self.b = b\n",
    "\n",
    "    def forward(self, x):  # вычисление линейного выражения (предикта)\n",
    "        y = self.w * x + self.b\n",
    "        return y\n",
    "\n",
    "    def backward(self, x, y_true):\n",
    "        y_pred = self.forward(x)\n",
    "\n",
    "        # производная по x от (wx+b - y_true)^2 = 2*(wx+b - y_true) * (производная по w от (wx+b - y_true) которая равна x)\n",
    "        dL_dw = 2 * (y_pred - y_true) * x\n",
    "\n",
    "        # производная по x от (wx+b - y_true)^2 = 2*(wx+b - y_true) * (производная по b от (wx+b - y_true) которая равна 1)\n",
    "        dL_db = 2 * (y_pred - y_true)\n",
    "\n",
    "        return dL_dw, dL_db"
   ],
   "id": "5ca01307b5e12cd7",
   "outputs": [],
   "execution_count": 33
  },
  {
   "metadata": {
    "ExecuteTime": {
     "end_time": "2025-04-16T11:15:36.709683Z",
     "start_time": "2025-04-16T11:15:36.704637Z"
    }
   },
   "cell_type": "code",
   "source": [
    "# лосс L = (y_pred - y_true)^2\n",
    "def loss(model, x, y):\n",
    "    L = (model.forward(x) - y) ** 2\n",
    "\n",
    "    return L"
   ],
   "id": "f9be6cde23df7e7d",
   "outputs": [],
   "execution_count": 34
  },
  {
   "metadata": {
    "ExecuteTime": {
     "end_time": "2025-04-16T11:15:37.217397Z",
     "start_time": "2025-04-16T11:15:37.213784Z"
    }
   },
   "cell_type": "code",
   "source": [
    "x = 3\n",
    "y_true = 10"
   ],
   "id": "721b5f323b72827b",
   "outputs": [],
   "execution_count": 35
  },
  {
   "metadata": {
    "ExecuteTime": {
     "end_time": "2025-04-16T11:35:23.626026Z",
     "start_time": "2025-04-16T11:35:23.622965Z"
    }
   },
   "cell_type": "code",
   "source": "model = Model(2.0, 1.0)",
   "id": "451b19a60b5caa17",
   "outputs": [],
   "execution_count": 120
  },
  {
   "metadata": {
    "ExecuteTime": {
     "end_time": "2025-04-16T11:35:24.097971Z",
     "start_time": "2025-04-16T11:35:24.095018Z"
    }
   },
   "cell_type": "code",
   "source": [
    "# вычислим лосс для предикта модели\n",
    "L = loss(model, x, y_true)\n",
    "print(L)"
   ],
   "id": "25d3dbea4027b9ad",
   "outputs": [
    {
     "name": "stdout",
     "output_type": "stream",
     "text": [
      "9.0\n"
     ]
    }
   ],
   "execution_count": 121
  },
  {
   "metadata": {
    "ExecuteTime": {
     "end_time": "2025-04-16T11:35:24.740986Z",
     "start_time": "2025-04-16T11:35:24.736357Z"
    }
   },
   "cell_type": "code",
   "source": [
    "# найдем частные производные функции потерь по обучаемым параметрам\n",
    "# dL по dw и dL по db\n",
    "dL_dw, dL_db = model.backward(x, y_true)\n",
    "print(\"dL по dw:\", dL_dw)\n",
    "print(\"dL по db:\", dL_db)"
   ],
   "id": "1060d745e9348703",
   "outputs": [
    {
     "name": "stdout",
     "output_type": "stream",
     "text": [
      "dL по dw: -18.0\n",
      "dL по db: -6.0\n"
     ]
    }
   ],
   "execution_count": 122
  },
  {
   "metadata": {},
   "cell_type": "markdown",
   "source": [
    "# Задание 3\n",
    "\n",
    "Собираемся обучить модель для решения задачи распознавания речи.\n",
    "\n"
   ],
   "id": "78c10175a09ed61f"
  },
  {
   "metadata": {},
   "cell_type": "code",
   "outputs": [],
   "execution_count": null,
   "source": "",
   "id": "ac9dbddcb680b669"
  },
  {
   "metadata": {},
   "cell_type": "code",
   "outputs": [],
   "execution_count": null,
   "source": "",
   "id": "959757926b0f6575"
  },
  {
   "metadata": {},
   "cell_type": "code",
   "outputs": [],
   "execution_count": null,
   "source": "",
   "id": "8028581f4f223e74"
  },
  {
   "metadata": {},
   "cell_type": "code",
   "outputs": [],
   "execution_count": null,
   "source": "",
   "id": "b3ff5238955e5072"
  },
  {
   "metadata": {},
   "cell_type": "code",
   "outputs": [],
   "execution_count": null,
   "source": "",
   "id": "674346eae41d1293"
  },
  {
   "metadata": {},
   "cell_type": "code",
   "outputs": [],
   "execution_count": null,
   "source": [
    "# ASR Data Preparation Notebook\n",
    "# Автор: ChatGPT\n",
    "# Задача: подготовка данных для обучения модели ASR\n",
    "\n",
    "import os\n",
    "import json\n",
    "import librosa\n",
    "import soundfile as sf\n",
    "import numpy as np\n",
    "import matplotlib.pyplot as plt\n",
    "from pydub import AudioSegment\n",
    "from pathlib import Path\n",
    "from IPython.display import Audio, display\n",
    "import random\n",
    "\n",
    "# Параметры\n",
    "AUDIO_FILE = \"audio.ogg\"  # замените на путь к вашему аудио файлу\n",
    "TRANSCRIPT_FILE = \"transcript.json\"  # замените на путь к json-файлу с транскрипцией\n",
    "OUTPUT_DIR = \"chunks\"\n",
    "MAX_DURATION = 30.0  # сек\n",
    "SAMPLE_RATE = 16000\n",
    "N_MELS = 80\n",
    "\n",
    "# Создание выходной директории\n",
    "os.makedirs(OUTPUT_DIR, exist_ok=True)\n",
    "\n",
    "# Загрузка и конвертация аудио\n",
    "print(\"\\n[1] Загрузка и ресемплирование аудио\")\n",
    "y, sr = librosa.load(AUDIO_FILE, sr=SAMPLE_RATE)\n",
    "print(f\"Аудио загружено: {len(y)/sr:.2f} сек, частота дискретизации: {sr} Гц\")\n",
    "\n",
    "# Загрузка транскрипции\n",
    "print(\"\\n[2] Загрузка транскрипции\")\n",
    "with open(TRANSCRIPT_FILE, 'r', encoding='utf-8') as f:\n",
    "    transcript = json.load(f)\n",
    "\n",
    "# Парсинг фраз и разбиение по сегментам <= 30 сек\n",
    "print(\"\\n[3] Разделение на сегменты\")\n",
    "chunks = []\n",
    "temp_chunk = []\n",
    "temp_duration = 0.0\n",
    "\n",
    "for phrase in transcript:\n",
    "    for term in phrase['terms']:\n",
    "        start = term['start']\n",
    "        end = term['end']\n",
    "        duration = end - start\n",
    "        if temp_duration + duration <= MAX_DURATION:\n",
    "            temp_chunk.append(term)\n",
    "            temp_duration += duration\n",
    "        else:\n",
    "            chunks.append(temp_chunk)\n",
    "            temp_chunk = [term]\n",
    "            temp_duration = duration\n",
    "if temp_chunk:\n",
    "    chunks.append(temp_chunk)\n",
    "\n",
    "print(f\"Получено сегментов: {len(chunks)}\")\n",
    "\n",
    "# Сохранение аудио и текста для каждого сегмента\n",
    "print(\"\\n[4] Сохранение сегментов\")\n",
    "metadata = []\n",
    "\n",
    "for i, chunk in enumerate(chunks):\n",
    "    seg_start = chunk[0]['start']\n",
    "    seg_end = chunk[-1]['end']\n",
    "    seg_audio = y[int(seg_start * sr):int(seg_end * sr)]\n",
    "    seg_text = \" \".join([t['text_normalized'] for t in chunk])\n",
    "    file_wav = f\"{OUTPUT_DIR}/chunk_{i:03}.wav\"\n",
    "    sf.write(file_wav, seg_audio, sr)\n",
    "    metadata.append({\"audio\": file_wav, \"text\": seg_text})\n",
    "\n",
    "with open(f\"{OUTPUT_DIR}/metadata.json\", 'w', encoding='utf-8') as f:\n",
    "    json.dump(metadata, f, ensure_ascii=False, indent=2)\n",
    "\n",
    "print(f\"Сегменты и метаданные сохранены в папку '{OUTPUT_DIR}'\")\n",
    "\n",
    "# Пример визуализации одного из сегментов\n",
    "print(\"\\n[5] Пример визуализации\")\n",
    "plt.figure(figsize=(10, 3))\n",
    "plt.title(\"Waveform одного из сегментов\")\n",
    "plt.plot(np.linspace(0, len(seg_audio) / sr, num=len(seg_audio)), seg_audio)\n",
    "plt.xlabel(\"Время (сек)\")\n",
    "plt.ylabel(\"Амплитуда\")\n",
    "plt.grid(True)\n",
    "plt.show()\n",
    "\n",
    "display(Audio(seg_audio, rate=sr))\n",
    "\n",
    "# [6] Аугментация: pitch shift, добавление шума\n",
    "print(\"\\n[6] Применение аугментации к аудио\")\n",
    "def add_noise(data, noise_level=0.005):\n",
    "    noise = np.random.randn(len(data))\n",
    "    augmented = data + noise_level * noise\n",
    "    return augmented.astype(np.float32)\n",
    "\n",
    "def pitch_shift(data, sr, n_steps=2):\n",
    "    return librosa.effects.pitch_shift(data, sr, n_steps=n_steps)\n",
    "\n",
    "augmented_dir = f\"{OUTPUT_DIR}/augmented\"\n",
    "os.makedirs(augmented_dir, exist_ok=True)\n",
    "\n",
    "for i, item in enumerate(metadata):\n",
    "    y_seg, _ = librosa.load(item[\"audio\"], sr=sr)\n",
    "    # Добавим шум\n",
    "    y_noise = add_noise(y_seg)\n",
    "    sf.write(f\"{augmented_dir}/chunk_{i:03}_noise.wav\", y_noise, sr)\n",
    "    # Сдвиг тона\n",
    "    y_pitch = pitch_shift(y_seg, sr, n_steps=random.choice([-2, -1, 1, 2]))\n",
    "    sf.write(f\"{augmented_dir}/chunk_{i:03}_pitch.wav\", y_pitch, sr)\n",
    "\n",
    "print(\"Аугментированные данные сохранены\")\n",
    "\n",
    "# [7] Преобразование в mel-спектрограммы (для Whisper / QuartzNet / Conformer)\n",
    "print(\"\\n[7] Генерация mel-спектрограмм\")\n",
    "mel_dir = f\"{OUTPUT_DIR}/mel_specs\"\n",
    "os.makedirs(mel_dir, exist_ok=True)\n",
    "\n",
    "for i, item in enumerate(metadata):\n",
    "    y_seg, _ = librosa.load(item[\"audio\"], sr=sr)\n",
    "    mel = librosa.feature.melspectrogram(y=y_seg, sr=sr, n_mels=N_MELS)\n",
    "    mel_db = librosa.power_to_db(mel, ref=np.max)\n",
    "    np.save(f\"{mel_dir}/chunk_{i:03}.npy\", mel_db)\n",
    "\n",
    "print(\"Mel-спектрограммы сохранены в numpy-формате\")\n"
   ],
   "id": "c2f33f2c25219998"
  },
  {
   "metadata": {},
   "cell_type": "markdown",
   "source": [
    "# Задание 4\n",
    "\n",
    "LSTM с input_size = 128 и hidden_size = 256\n",
    "\n",
    "Сколько для одной LSTM ячейки обучаемых параметров"
   ],
   "id": "e3ed7bb6a0be1ed3"
  },
  {
   "metadata": {},
   "cell_type": "code",
   "outputs": [],
   "execution_count": null,
   "source": [
    "\"\"\"\n",
    "LSTM ячейка состоит из 4 гейтов каждый из которых по сути яввляется линейным слоем.\n",
    "\n",
    "Каждый гейт имеет одну и ту же формулу sigmoid(Wf * Xt + Uf * Ht-1 + Bf)\n",
    "    здесь Xt размера input_size и Ht-1 размера hidden_size\n",
    "    следовательно Wf размера hidden_size * input_size, Uf размера hidden_size * hidden_size, Bf размера hidden_size\n",
    "\n",
    "получаем hidden_size * input_size + hidden_size * hidden_size + hidden_size = hidden_size * (input_size + hidden_size + 1) = 98560\n",
    "98560 * 4 = 394240 параметров суммаро для 4 гейтов в одной LSTM ячейке\n",
    "----------------------------------------------------------------------\n",
    "\n",
    "в torch.nn.LSTM реализованно два биаса для каждого гейта. один для входного слоя другой для скрытого что дает\n",
    "hidden_size * (input_size + hidden_size + 2) = 98816\n",
    "98816 * 4 = 395264 параметров суммаро для 4 гейтов в одной torch.nn.LSTM ячейке\n",
    "-------------------------------------------------------------------------------\n",
    "\"\"\""
   ],
   "id": "1f43dd2508de2326"
  },
  {
   "metadata": {
    "ExecuteTime": {
     "end_time": "2025-04-17T04:34:45.182154Z",
     "start_time": "2025-04-17T04:34:45.151970Z"
    }
   },
   "cell_type": "code",
   "source": [
    "import torch.nn as nn\n",
    "\n",
    "input_size = 128\n",
    "hidden_size = 256\n",
    "lstm = nn.LSTM(input_size=input_size, hidden_size=hidden_size)  # создаем LSTM блок"
   ],
   "id": "7fb2ebdf7b1479bd",
   "outputs": [],
   "execution_count": 130
  },
  {
   "metadata": {
    "ExecuteTime": {
     "end_time": "2025-04-17T04:34:46.111108Z",
     "start_time": "2025-04-17T04:34:46.107098Z"
    }
   },
   "cell_type": "code",
   "source": [
    "# Считаем количество параметров\n",
    "total_params = sum(p.numel() for p in lstm.parameters() if p.requires_grad)  # сумма параметров\n",
    "print(f\"Обучаемых параметров:\", total_params)"
   ],
   "id": "64734df9e3c4d3c",
   "outputs": [
    {
     "name": "stdout",
     "output_type": "stream",
     "text": [
      "Обучаемых параметров: 395264\n"
     ]
    }
   ],
   "execution_count": 131
  },
  {
   "metadata": {},
   "cell_type": "markdown",
   "source": [
    "# Задание 5\n",
    "\n",
    "Решаем задачу бинарной классификации аудиозаписей\n",
    "\n",
    "Имеется 100 записей:\n",
    "* 1 из класса C1\n",
    "* 99 из класса C0\n",
    "\n",
    "Обучен классификатор:\n",
    "* True Positive (Предсказали С1 при истинном С1) с вероятностью 0.9\n",
    "* False Positive (Предсказали С1 при истинном С0) с вероятностью 0.03\n",
    "\n",
    "Найти:\n",
    "1. Какова вероятность что случайную запись из датасета классификатор отнесет к C1\n",
    "2. Если случайная запись классифицирована как C1 какова вероятность что она действительно C1"
   ],
   "id": "67cd6992288f728c"
  },
  {
   "metadata": {},
   "cell_type": "code",
   "outputs": [],
   "execution_count": null,
   "source": [
    "\"\"\"\n",
    "Заметим что вероятность получить класс C1 равна P(C1) = 0.01 а вероятность класса C0 P(C0) = 0.99\n",
    "Заметим что события С1 истинное и С0 ложное формируют полную группу гипотез\n",
    "\n",
    "1. По формуле полной вероятности\n",
    "    P(C1_predicted) = P(C1_predicted | C1_истинная) * P(C1_истинная) + P(C1_predicted | C0_истинная) * P(C0_истинная)\n",
    "    P(C1_predicted) = 0.9 * 0.01 + 0.03 * 0.99 = 0.0387 ~= 0.038\n",
    "                                                 --------------\n",
    "\n",
    "2. По теореме Байеса\n",
    "    P(C1_истинная | C1_predicted) =   P(C1_predicted | C1_истинная) * P(C1_истинная)                                                   =\n",
    "                                     _________________________________________________________________________________________________\n",
    "                                      P(C1_predicted | C1_истинная) * P(C1_истинная) + P(C1_predicted | C0_истинная) * P(C0_истинная)\n",
    "\n",
    "     = 0.9 * 0.01 / ( 0.9 * 0.01 + 0.03 * 0.99 ) = 0.2325581395 ~= 0.232\n",
    "                                                   --------------------\n",
    "\n",
    "Итого:\n",
    "1. Вероятность того что случайную запись из датасета классификатор отнесет к C1 ~= 0.038\n",
    "2. Вероятность того что случайная запись классифицирована как C1 и действительно является C1 ~= 0.232\n",
    "\"\"\""
   ],
   "id": "f1682e63f46219b1"
  },
  {
   "metadata": {},
   "cell_type": "markdown",
   "source": [
    "# Задание 6\n",
    "\n",
    "Для X1 .. Xn из множества вещественных чисел.\\\n",
    "Необходимо написать аналитическое решение для поиска значения b для минимизации sum( (Xi - b)^2 )\n"
   ],
   "id": "46ba4d252b4e406e"
  },
  {
   "metadata": {},
   "cell_type": "code",
   "source": [
    "\"\"\"\n",
    "Хотим минимизировать функцию потерь. Для вектора X найти некое b чтобы сумма квадратов разностей стала минимальной\n",
    "sum( (Xi - b)^2 )\n",
    "\n",
    "    Для этого воспользуемся градиентом приравненым к нулю т.е. точкой экстремума.\n",
    "    Т.к функция гладкая и выпуклая (парабола с ветками вверх) следовательно она имеет только одну точку экстремума являющуюся минимумом.\n",
    "    Т.е\n",
    "\n",
    "1. Раскрываем скобки под суммой\n",
    "sum( Xi^2 - 2 * Xi * b + b^2 )\n",
    "\n",
    "2. Раскроем по линейности суммы\n",
    "sum(Xi^2) - 2 * b * sum(Xi) + N * b^2\n",
    "\n",
    "3. найдем частную производную по b\n",
    "-2 * sum(Xi) + N * 2b\n",
    "\n",
    "4. Приравняем производную к нулю для поиска точки экстремума\n",
    "-2 * sum(Xi) + N * 2b = 0\n",
    "N * 2b = 2 * sum(Xi)\n",
    "2 * b = 2 * 1/N * sum(Xi)\n",
    "b = 1/N * sum(Xi)\n",
    "\n",
    "Ответ: (оказалось что выгоднее всего с точки зрения минимизации функции потерь выбирать среднее значение для b)\n",
    "b = 1/N * sum(Xi)\n",
    "---------------------------------------------------------------------------------------------------------------\n",
    "\"\"\""
   ],
   "id": "2eb7171bb027ca82",
   "outputs": [],
   "execution_count": null
  },
  {
   "metadata": {},
   "cell_type": "markdown",
   "source": [
    "# Задание 7\n",
    "\n",
    "Образуют ли векторы:\n",
    "* x1 = [1, 0, 1]^T\n",
    "* x2 = [1, 1, 0]^T\n",
    "* x3 = [1, 1, 1]^T\n",
    "\n",
    "Базис векторного пространства в R^3. Написать аналитическое решение"
   ],
   "id": "ea7cbf297e85cb05"
  },
  {
   "metadata": {},
   "cell_type": "code",
   "source": [
    "\"\"\"\n",
    "Проверим векторы на линейную зависимость.\n",
    "Если окажется что один из векторов представим как линейная комбинация двух других то вектора линейно зависимы -> не образуют базис в R^3\n",
    "\n",
    "1. Перепишем вектры как линейную комбинацию и приравняем к нулю:\n",
    "a * [1, 0, 1]^T + b * [1, 1, 0]^T + c * [1, 1, 1]^T = 0\n",
    "\n",
    "    тогда получится что любой вектор представим как линейная комбинация двух других со знаком минус например:\n",
    "    a * [1, 0, 1]^T + b * [1, 1, 0]^T = -c * [1, 1, 1]^T\n",
    "\n",
    "2. Составим и решим систему уравнений\n",
    "    [1]       [1]       [1]   [0]\n",
    "a * [0] + b * [1] + c * [1] = [0]\n",
    "    [1]       [0]       [1]   [0]\n",
    "\n",
    " /  a + b + c = 0\n",
    "<   b + c = 0\n",
    " \\  a + c = 0\n",
    "\n",
    "    из второй и третей строки получим:\n",
    "    b = -c\n",
    "    a = -c\n",
    "    подставим в первое:\n",
    "    -с -с + с= 0\n",
    "    т.е. -с = 0\n",
    "    Тогда единственное решение системы будет в точке [0, 0, 0]^T (a=b=c=0)\n",
    "\n",
    "    следовательно Векторы можно представить как линейную комбинацию друг друга только если все они нулевые.\n",
    "                  Значит они линейно независимы\n",
    "\n",
    "А это значит что векторы образуют базис векторного пространства в R^3\n",
    "----------------------------------------------------------------------\n",
    "\"\"\""
   ],
   "id": "8cf27e72124539d2",
   "outputs": [],
   "execution_count": null
  }
 ],
 "metadata": {
  "kernelspec": {
   "display_name": "Python 3",
   "language": "python",
   "name": "python3"
  },
  "language_info": {
   "codemirror_mode": {
    "name": "ipython",
    "version": 2
   },
   "file_extension": ".py",
   "mimetype": "text/x-python",
   "name": "python",
   "nbconvert_exporter": "python",
   "pygments_lexer": "ipython2",
   "version": "2.7.6"
  }
 },
 "nbformat": 4,
 "nbformat_minor": 5
}
